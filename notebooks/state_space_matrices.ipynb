{
 "cells": [
  {
   "cell_type": "code",
   "execution_count": 1,
   "metadata": {},
   "outputs": [],
   "source": [
    "import numpy as np\n",
    "import sympy as sp\n",
    "from IPython.display import display, Markdown\n",
    "from scipy.constants import convert_temperature as conv_temp\n",
    "\n",
    "from classes import LEDparams, Model"
   ]
  },
  {
   "cell_type": "code",
   "execution_count": 2,
   "metadata": {},
   "outputs": [],
   "source": [
    "save_ss_matrices  = False"
   ]
  },
  {
   "cell_type": "code",
   "execution_count": 3,
   "metadata": {},
   "outputs": [],
   "source": [
    "LEDpar = LEDparams()\n",
    "\n",
    "dt_d = 2.0 # s\n",
    "P_rad = 0.4 # W\n",
    "\n",
    "T_cell_ref = conv_temp(37.0, 'C', 'K') # K\n",
    "T_amb = conv_temp(25.0, 'C', 'K') # K\n",
    "# T_amb = conv_temp(37.0, 'C', 'K') # K\n",
    "\n",
    "x0 = np.array([0.9,\n",
    "               T_amb,\n",
    "               T_amb])\n",
    "\n",
    "# Model\n",
    "LEDpar.get_x_from_P_rad(P_rad)\n",
    "model = Model(LEDpar, x0, T_amb0=T_amb)\n",
    "\n",
    "\n",
    "x_op_cool, x_op_heat = model.get_operational_state\n",
    "u_op_cool, u_op_heat = model.get_operational_input"
   ]
  },
  {
   "cell_type": "markdown",
   "metadata": {},
   "source": [
    "# For both Cooling and Heating"
   ]
  },
  {
   "cell_type": "code",
   "execution_count": 4,
   "metadata": {},
   "outputs": [
    {
     "data": {
      "text/markdown": [
       "$T_{cell} =$"
      ],
      "text/plain": [
       "<IPython.core.display.Markdown object>"
      ]
     },
     "metadata": {},
     "output_type": "display_data"
    },
    {
     "data": {
      "text/latex": [
       "$\\displaystyle \\frac{R_{cell amb} \\left(- T_{amb} + T_{top}\\right)}{R_{cell amb} + R_{top cell}} + T_{amb}$"
      ],
      "text/plain": [
       "R_cell_amb*(-T_amb + T_top)/(R_cell_amb + R_top_cell) + T_amb"
      ]
     },
     "metadata": {},
     "output_type": "display_data"
    },
    {
     "data": {
      "text/markdown": [
       "\\frac{R_{cell amb} \\left(- T_{amb} + T_{top}\\right)}{R_{cell amb} + R_{top cell}} + T_{amb}"
      ],
      "text/plain": [
       "<IPython.core.display.Markdown object>"
      ]
     },
     "metadata": {},
     "output_type": "display_data"
    }
   ],
   "source": [
    "T_cell = model.T_cell_symb\n",
    "\n",
    "display(Markdown(r\"$T_{cell} =$\"), T_cell)\n",
    "display(Markdown(sp.latex(T_cell)))"
   ]
  },
  {
   "cell_type": "code",
   "execution_count": 5,
   "metadata": {},
   "outputs": [
    {
     "data": {
      "text/markdown": [
       "$y = g(x, u)=$"
      ],
      "text/plain": [
       "<IPython.core.display.Markdown object>"
      ]
     },
     "metadata": {},
     "output_type": "display_data"
    },
    {
     "data": {
      "text/latex": [
       "$\\displaystyle \\left[\\begin{matrix}T_{top}\\end{matrix}\\right]$"
      ],
      "text/plain": [
       "Matrix([[T_top]])"
      ]
     },
     "metadata": {},
     "output_type": "display_data"
    },
    {
     "data": {
      "text/markdown": [
       "\\left[\\begin{matrix}T_{top}\\end{matrix}\\right]"
      ],
      "text/plain": [
       "<IPython.core.display.Markdown object>"
      ]
     },
     "metadata": {},
     "output_type": "display_data"
    }
   ],
   "source": [
    "y = model.g_symb\n",
    "\n",
    "display(Markdown(r\"$y = g(x, u)=$\"), y)\n",
    "display(Markdown(sp.latex(y)))"
   ]
  },
  {
   "cell_type": "code",
   "execution_count": 6,
   "metadata": {},
   "outputs": [
    {
     "data": {
      "text/markdown": [
       "$C = \\frac{\\partial g}{\\partial x}=$"
      ],
      "text/plain": [
       "<IPython.core.display.Markdown object>"
      ]
     },
     "metadata": {},
     "output_type": "display_data"
    },
    {
     "data": {
      "text/latex": [
       "$\\displaystyle \\left[\\begin{matrix}0 & 1 & 0\\end{matrix}\\right]$"
      ],
      "text/plain": [
       "Matrix([[0, 1, 0]])"
      ]
     },
     "metadata": {},
     "output_type": "display_data"
    },
    {
     "data": {
      "text/markdown": [
       "\\left[\\begin{matrix}0 & 1 & 0\\end{matrix}\\right]"
      ],
      "text/plain": [
       "<IPython.core.display.Markdown object>"
      ]
     },
     "metadata": {},
     "output_type": "display_data"
    }
   ],
   "source": [
    "C = model.C_symb\n",
    "\n",
    "display(Markdown(r\"$C = \\frac{\\partial g}{\\partial x}=$\"), C)\n",
    "display(Markdown(sp.latex(C)))"
   ]
  },
  {
   "cell_type": "code",
   "execution_count": 7,
   "metadata": {},
   "outputs": [
    {
     "data": {
      "text/markdown": [
       "$D = \\frac{\\partial g}{\\partial u}=$"
      ],
      "text/plain": [
       "<IPython.core.display.Markdown object>"
      ]
     },
     "metadata": {},
     "output_type": "display_data"
    },
    {
     "data": {
      "text/latex": [
       "$\\displaystyle \\left[\\begin{matrix}0 & 0\\end{matrix}\\right]$"
      ],
      "text/plain": [
       "Matrix([[0, 0]])"
      ]
     },
     "metadata": {},
     "output_type": "display_data"
    },
    {
     "data": {
      "text/markdown": [
       "\\left[\\begin{matrix}0 & 0\\end{matrix}\\right]"
      ],
      "text/plain": [
       "<IPython.core.display.Markdown object>"
      ]
     },
     "metadata": {},
     "output_type": "display_data"
    }
   ],
   "source": [
    "D = model.D_symb\n",
    "\n",
    "display(Markdown(r\"$D = \\frac{\\partial g}{\\partial u}=$\"), D)\n",
    "display(Markdown(sp.latex(D)))"
   ]
  },
  {
   "cell_type": "code",
   "execution_count": 8,
   "metadata": {},
   "outputs": [
    {
     "data": {
      "text/markdown": [
       "$l = f(\\bar{x},\\bar{u}) - A\\bar{x} - B\\bar{u}$"
      ],
      "text/plain": [
       "<IPython.core.display.Markdown object>"
      ]
     },
     "metadata": {},
     "output_type": "display_data"
    },
    {
     "data": {
      "text/latex": [
       "$\\displaystyle \\left[\\begin{matrix}0\\end{matrix}\\right]$"
      ],
      "text/plain": [
       "Matrix([[0]])"
      ]
     },
     "metadata": {},
     "output_type": "display_data"
    },
    {
     "data": {
      "text/markdown": [
       "\\left[\\begin{matrix}0\\end{matrix}\\right]"
      ],
      "text/plain": [
       "<IPython.core.display.Markdown object>"
      ]
     },
     "metadata": {},
     "output_type": "display_data"
    }
   ],
   "source": [
    "l = model.l_symb\n",
    "\n",
    "display(Markdown(r\"$l = f(\\bar{x},\\bar{u}) - A\\bar{x} - B\\bar{u}$\"), l)\n",
    "display(Markdown(sp.latex(l)))"
   ]
  },
  {
   "cell_type": "markdown",
   "metadata": {},
   "source": [
    "# Cooling"
   ]
  },
  {
   "cell_type": "code",
   "execution_count": 9,
   "metadata": {},
   "outputs": [
    {
     "data": {
      "text/markdown": [
       "$\\dot{x} = f(x, u)=$"
      ],
      "text/plain": [
       "<IPython.core.display.Markdown object>"
      ]
     },
     "metadata": {},
     "output_type": "display_data"
    },
    {
     "data": {
      "text/latex": [
       "$\\displaystyle \\left[\\begin{matrix}- \\frac{I_{FAN} x_{FAN} + I_{LED} x_{LED} + I_{rest} + \\sqrt{I_{HP}^{2}}}{Q_{max} n_{BT}}\\\\\\frac{0.5 I_{HP}^{2} R_{M} - I_{HP} S_{M} T_{top} + I_{LED} x_{LED} \\left(- \\frac{R_{BT} \\left(I_{FAN} x_{FAN} + I_{LED} x_{LED} + I_{rest} + \\sqrt{I_{HP}^{2}}\\right)}{n_{BT}} + a_{0} + a_{1} x_{SoC} + a_{2} x_{SoC}^{2} + a_{3} x_{SoC}^{3}\\right) + K_{M} \\left(T_{bot} - T_{top}\\right) - P_{rad} - \\frac{- T_{amb} + T_{top}}{R_{cell amb} + R_{top cell}}}{cp_{Al} m_{top}}\\\\\\frac{0.5 I_{HP}^{2} R_{M} + I_{HP} S_{M} T_{bot} - K_{M} \\left(T_{bot} - T_{top}\\right) + Q_{rest} - \\frac{\\left(- T_{amb} + T_{bot}\\right) \\left(R_{floor} + m_{FAN} x_{FAN} + q_{FAN}\\right)}{R_{floor} \\left(m_{FAN} x_{FAN} + q_{FAN}\\right)}}{cp_{Al} m_{bot}}\\end{matrix}\\right]$"
      ],
      "text/plain": [
       "Matrix([\n",
       "[                                                                                                                                                                                     -(I_FAN*x_FAN + I_LED*x_LED + I_rest + sqrt(I_HP**2))/(Q_max*n_BT)],\n",
       "[(0.5*I_HP**2*R_M - I_HP*S_M*T_top + I_LED*x_LED*(-R_BT*(I_FAN*x_FAN + I_LED*x_LED + I_rest + sqrt(I_HP**2))/n_BT + a0 + a1*x_SoC + a2*x_SoC**2 + a3*x_SoC**3) + K_M*(T_bot - T_top) - P_rad - (-T_amb + T_top)/(R_cell_amb + R_top_cell))/(cp_Al*m_top)],\n",
       "[                                                                                     (0.5*I_HP**2*R_M + I_HP*S_M*T_bot - K_M*(T_bot - T_top) + Q_rest - (-T_amb + T_bot)*(R_floor + m_FAN*x_FAN + q_FAN)/(R_floor*(m_FAN*x_FAN + q_FAN)))/(cp_Al*m_bot)]])"
      ]
     },
     "metadata": {},
     "output_type": "display_data"
    },
    {
     "data": {
      "text/markdown": [
       "\\left[\\begin{matrix}- \\frac{I_{FAN} x_{FAN} + I_{LED} x_{LED} + I_{rest} + \\sqrt{I_{HP}^{2}}}{Q_{max} n_{BT}}\\\\\\frac{0.5 I_{HP}^{2} R_{M} - I_{HP} S_{M} T_{top} + I_{LED} x_{LED} \\left(- \\frac{R_{BT} \\left(I_{FAN} x_{FAN} + I_{LED} x_{LED} + I_{rest} + \\sqrt{I_{HP}^{2}}\\right)}{n_{BT}} + a_{0} + a_{1} x_{SoC} + a_{2} x_{SoC}^{2} + a_{3} x_{SoC}^{3}\\right) + K_{M} \\left(T_{bot} - T_{top}\\right) - P_{rad} - \\frac{- T_{amb} + T_{top}}{R_{cell amb} + R_{top cell}}}{cp_{Al} m_{top}}\\\\\\frac{0.5 I_{HP}^{2} R_{M} + I_{HP} S_{M} T_{bot} - K_{M} \\left(T_{bot} - T_{top}\\right) + Q_{rest} - \\frac{\\left(- T_{amb} + T_{bot}\\right) \\left(R_{floor} + m_{FAN} x_{FAN} + q_{FAN}\\right)}{R_{floor} \\left(m_{FAN} x_{FAN} + q_{FAN}\\right)}}{cp_{Al} m_{bot}}\\end{matrix}\\right]"
      ],
      "text/plain": [
       "<IPython.core.display.Markdown object>"
      ]
     },
     "metadata": {},
     "output_type": "display_data"
    }
   ],
   "source": [
    "x_dot = model.f_symb_cool\n",
    "\n",
    "display(Markdown(r\"$\\dot{x} = f(x, u)=$\"), x_dot)\n",
    "display(Markdown(sp.latex(x_dot)))"
   ]
  },
  {
   "cell_type": "code",
   "execution_count": 10,
   "metadata": {},
   "outputs": [
    {
     "data": {
      "text/markdown": [
       "$A = \\nabla_x f = $"
      ],
      "text/plain": [
       "<IPython.core.display.Markdown object>"
      ]
     },
     "metadata": {},
     "output_type": "display_data"
    },
    {
     "data": {
      "text/latex": [
       "$\\displaystyle \\left[\\begin{matrix}0 & 0 & 0\\\\\\frac{I_{LED} x_{LED} \\left(a_{1} + 2 a_{2} x_{SoC} + 3 a_{3} x_{SoC}^{2}\\right)}{cp_{Al} m_{top}} & \\frac{- I_{HP} S_{M} - K_{M} - \\frac{1}{R_{cell amb} + R_{top cell}}}{cp_{Al} m_{top}} & \\frac{K_{M}}{cp_{Al} m_{top}}\\\\0 & \\frac{K_{M}}{cp_{Al} m_{bot}} & \\frac{I_{HP} S_{M} - K_{M} - \\frac{R_{floor} + m_{FAN} x_{FAN} + q_{FAN}}{R_{floor} \\left(m_{FAN} x_{FAN} + q_{FAN}\\right)}}{cp_{Al} m_{bot}}\\end{matrix}\\right]$"
      ],
      "text/plain": [
       "Matrix([\n",
       "[                                                          0,                                                             0,                                                                                                0],\n",
       "[I_LED*x_LED*(a1 + 2*a2*x_SoC + 3*a3*x_SoC**2)/(cp_Al*m_top), (-I_HP*S_M - K_M - 1/(R_cell_amb + R_top_cell))/(cp_Al*m_top),                                                                                K_M/(cp_Al*m_top)],\n",
       "[                                                          0,                                             K_M/(cp_Al*m_bot), (I_HP*S_M - K_M - (R_floor + m_FAN*x_FAN + q_FAN)/(R_floor*(m_FAN*x_FAN + q_FAN)))/(cp_Al*m_bot)]])"
      ]
     },
     "metadata": {},
     "output_type": "display_data"
    },
    {
     "data": {
      "text/markdown": [
       "\\left[\\begin{matrix}0 & 0 & 0\\\\\\frac{I_{LED} x_{LED} \\left(a_{1} + 2 a_{2} x_{SoC} + 3 a_{3} x_{SoC}^{2}\\right)}{cp_{Al} m_{top}} & \\frac{- I_{HP} S_{M} - K_{M} - \\frac{1}{R_{cell amb} + R_{top cell}}}{cp_{Al} m_{top}} & \\frac{K_{M}}{cp_{Al} m_{top}}\\\\0 & \\frac{K_{M}}{cp_{Al} m_{bot}} & \\frac{I_{HP} S_{M} - K_{M} - \\frac{R_{floor} + m_{FAN} x_{FAN} + q_{FAN}}{R_{floor} \\left(m_{FAN} x_{FAN} + q_{FAN}\\right)}}{cp_{Al} m_{bot}}\\end{matrix}\\right]"
      ],
      "text/plain": [
       "<IPython.core.display.Markdown object>"
      ]
     },
     "metadata": {},
     "output_type": "display_data"
    }
   ],
   "source": [
    "A_cool = model.A_symb_cool\n",
    "\n",
    "display(Markdown(r\"$A = \\nabla_x f = $\"), A_cool)\n",
    "display(Markdown(sp.latex(A_cool)))"
   ]
  },
  {
   "cell_type": "code",
   "execution_count": 11,
   "metadata": {},
   "outputs": [
    {
     "data": {
      "text/markdown": [
       "$B = \\nabla_u f = $"
      ],
      "text/plain": [
       "<IPython.core.display.Markdown object>"
      ]
     },
     "metadata": {},
     "output_type": "display_data"
    },
    {
     "data": {
      "text/latex": [
       "$\\displaystyle \\left[\\begin{matrix}- \\frac{\\sqrt{I_{HP}^{2}}}{I_{HP} Q_{max} n_{BT}} & - \\frac{I_{FAN}}{Q_{max} n_{BT}}\\\\\\frac{1.0 I_{HP} R_{M} - S_{M} T_{top} - \\frac{I_{LED} R_{BT} x_{LED} \\sqrt{I_{HP}^{2}}}{I_{HP} n_{BT}}}{cp_{Al} m_{top}} & - \\frac{I_{FAN} I_{LED} R_{BT} x_{LED}}{cp_{Al} m_{top} n_{BT}}\\\\\\frac{1.0 I_{HP} R_{M} + S_{M} T_{bot}}{cp_{Al} m_{bot}} & \\frac{- \\frac{m_{FAN} \\left(- T_{amb} + T_{bot}\\right)}{R_{floor} \\left(m_{FAN} x_{FAN} + q_{FAN}\\right)} + \\frac{m_{FAN} \\left(- T_{amb} + T_{bot}\\right) \\left(R_{floor} + m_{FAN} x_{FAN} + q_{FAN}\\right)}{R_{floor} \\left(m_{FAN} x_{FAN} + q_{FAN}\\right)^{2}}}{cp_{Al} m_{bot}}\\end{matrix}\\right]$"
      ],
      "text/plain": [
       "Matrix([\n",
       "[                                                     -sqrt(I_HP**2)/(I_HP*Q_max*n_BT),                                                                                                                                                 -I_FAN/(Q_max*n_BT)],\n",
       "[(1.0*I_HP*R_M - S_M*T_top - I_LED*R_BT*x_LED*sqrt(I_HP**2)/(I_HP*n_BT))/(cp_Al*m_top),                                                                                                                          -I_FAN*I_LED*R_BT*x_LED/(cp_Al*m_top*n_BT)],\n",
       "[                                             (1.0*I_HP*R_M + S_M*T_bot)/(cp_Al*m_bot), (-m_FAN*(-T_amb + T_bot)/(R_floor*(m_FAN*x_FAN + q_FAN)) + m_FAN*(-T_amb + T_bot)*(R_floor + m_FAN*x_FAN + q_FAN)/(R_floor*(m_FAN*x_FAN + q_FAN)**2))/(cp_Al*m_bot)]])"
      ]
     },
     "metadata": {},
     "output_type": "display_data"
    },
    {
     "data": {
      "text/markdown": [
       "\\left[\\begin{matrix}- \\frac{\\sqrt{I_{HP}^{2}}}{I_{HP} Q_{max} n_{BT}} & - \\frac{I_{FAN}}{Q_{max} n_{BT}}\\\\\\frac{1.0 I_{HP} R_{M} - S_{M} T_{top} - \\frac{I_{LED} R_{BT} x_{LED} \\sqrt{I_{HP}^{2}}}{I_{HP} n_{BT}}}{cp_{Al} m_{top}} & - \\frac{I_{FAN} I_{LED} R_{BT} x_{LED}}{cp_{Al} m_{top} n_{BT}}\\\\\\frac{1.0 I_{HP} R_{M} + S_{M} T_{bot}}{cp_{Al} m_{bot}} & \\frac{- \\frac{m_{FAN} \\left(- T_{amb} + T_{bot}\\right)}{R_{floor} \\left(m_{FAN} x_{FAN} + q_{FAN}\\right)} + \\frac{m_{FAN} \\left(- T_{amb} + T_{bot}\\right) \\left(R_{floor} + m_{FAN} x_{FAN} + q_{FAN}\\right)}{R_{floor} \\left(m_{FAN} x_{FAN} + q_{FAN}\\right)^{2}}}{cp_{Al} m_{bot}}\\end{matrix}\\right]"
      ],
      "text/plain": [
       "<IPython.core.display.Markdown object>"
      ]
     },
     "metadata": {},
     "output_type": "display_data"
    }
   ],
   "source": [
    "B_cool = model.B_symb_cool\n",
    "\n",
    "display(Markdown(r\"$B = \\nabla_u f = $\"), B_cool)\n",
    "display(Markdown(sp.latex(B_cool)))"
   ]
  },
  {
   "cell_type": "code",
   "execution_count": 12,
   "metadata": {},
   "outputs": [
    {
     "data": {
      "text/markdown": [
       "$h = f(\\bar{x},\\bar{u}) - A\\bar{x} - B\\bar{u}$"
      ],
      "text/plain": [
       "<IPython.core.display.Markdown object>"
      ]
     },
     "metadata": {},
     "output_type": "display_data"
    },
    {
     "data": {
      "text/latex": [
       "$\\displaystyle \\left[\\begin{matrix}\\frac{I_{FAN} x_{FAN}}{Q_{max} n_{BT}} - \\frac{I_{FAN} x_{FAN} + I_{LED} x_{LED} + I_{rest} + \\sqrt{I_{HP}^{2}}}{Q_{max} n_{BT}} + \\frac{\\sqrt{I_{HP}^{2}}}{Q_{max} n_{BT}}\\\\\\frac{I_{FAN} I_{LED} R_{BT} x_{FAN} x_{LED}}{cp_{Al} m_{top} n_{BT}} - \\frac{I_{HP} \\left(1.0 I_{HP} R_{M} - S_{M} T_{top} - \\frac{I_{LED} R_{BT} x_{LED} \\sqrt{I_{HP}^{2}}}{I_{HP} n_{BT}}\\right)}{cp_{Al} m_{top}} - \\frac{I_{LED} x_{LED} x_{SoC} \\left(a_{1} + 2 a_{2} x_{SoC} + 3 a_{3} x_{SoC}^{2}\\right)}{cp_{Al} m_{top}} - \\frac{K_{M} T_{bot}}{cp_{Al} m_{top}} - \\frac{T_{top} \\left(- I_{HP} S_{M} - K_{M} - \\frac{1}{R_{cell amb} + R_{top cell}}\\right)}{cp_{Al} m_{top}} + \\frac{0.5 I_{HP}^{2} R_{M} - I_{HP} S_{M} T_{top} + I_{LED} x_{LED} \\left(- \\frac{R_{BT} \\left(I_{FAN} x_{FAN} + I_{LED} x_{LED} + I_{rest} + \\sqrt{I_{HP}^{2}}\\right)}{n_{BT}} + a_{0} + a_{1} x_{SoC} + a_{2} x_{SoC}^{2} + a_{3} x_{SoC}^{3}\\right) + K_{M} \\left(T_{bot} - T_{top}\\right) - P_{rad} - \\frac{- T_{amb} + T_{top}}{R_{cell amb} + R_{top cell}}}{cp_{Al} m_{top}}\\\\- \\frac{I_{HP} \\left(1.0 I_{HP} R_{M} + S_{M} T_{bot}\\right)}{cp_{Al} m_{bot}} - \\frac{K_{M} T_{top}}{cp_{Al} m_{bot}} - \\frac{T_{bot} \\left(I_{HP} S_{M} - K_{M} - \\frac{R_{floor} + m_{FAN} x_{FAN} + q_{FAN}}{R_{floor} \\left(m_{FAN} x_{FAN} + q_{FAN}\\right)}\\right)}{cp_{Al} m_{bot}} - \\frac{x_{FAN} \\left(- \\frac{m_{FAN} \\left(- T_{amb} + T_{bot}\\right)}{R_{floor} \\left(m_{FAN} x_{FAN} + q_{FAN}\\right)} + \\frac{m_{FAN} \\left(- T_{amb} + T_{bot}\\right) \\left(R_{floor} + m_{FAN} x_{FAN} + q_{FAN}\\right)}{R_{floor} \\left(m_{FAN} x_{FAN} + q_{FAN}\\right)^{2}}\\right)}{cp_{Al} m_{bot}} + \\frac{0.5 I_{HP}^{2} R_{M} + I_{HP} S_{M} T_{bot} - K_{M} \\left(T_{bot} - T_{top}\\right) + Q_{rest} - \\frac{\\left(- T_{amb} + T_{bot}\\right) \\left(R_{floor} + m_{FAN} x_{FAN} + q_{FAN}\\right)}{R_{floor} \\left(m_{FAN} x_{FAN} + q_{FAN}\\right)}}{cp_{Al} m_{bot}}\\end{matrix}\\right]$"
      ],
      "text/plain": [
       "Matrix([\n",
       "[                                                                                                                                                                                                                                                                                                                                                                                                                                                 I_FAN*x_FAN/(Q_max*n_BT) - (I_FAN*x_FAN + I_LED*x_LED + I_rest + sqrt(I_HP**2))/(Q_max*n_BT) + sqrt(I_HP**2)/(Q_max*n_BT)],\n",
       "[I_FAN*I_LED*R_BT*x_FAN*x_LED/(cp_Al*m_top*n_BT) - I_HP*(1.0*I_HP*R_M - S_M*T_top - I_LED*R_BT*x_LED*sqrt(I_HP**2)/(I_HP*n_BT))/(cp_Al*m_top) - I_LED*x_LED*x_SoC*(a1 + 2*a2*x_SoC + 3*a3*x_SoC**2)/(cp_Al*m_top) - K_M*T_bot/(cp_Al*m_top) - T_top*(-I_HP*S_M - K_M - 1/(R_cell_amb + R_top_cell))/(cp_Al*m_top) + (0.5*I_HP**2*R_M - I_HP*S_M*T_top + I_LED*x_LED*(-R_BT*(I_FAN*x_FAN + I_LED*x_LED + I_rest + sqrt(I_HP**2))/n_BT + a0 + a1*x_SoC + a2*x_SoC**2 + a3*x_SoC**3) + K_M*(T_bot - T_top) - P_rad - (-T_amb + T_top)/(R_cell_amb + R_top_cell))/(cp_Al*m_top)],\n",
       "[                                        -I_HP*(1.0*I_HP*R_M + S_M*T_bot)/(cp_Al*m_bot) - K_M*T_top/(cp_Al*m_bot) - T_bot*(I_HP*S_M - K_M - (R_floor + m_FAN*x_FAN + q_FAN)/(R_floor*(m_FAN*x_FAN + q_FAN)))/(cp_Al*m_bot) - x_FAN*(-m_FAN*(-T_amb + T_bot)/(R_floor*(m_FAN*x_FAN + q_FAN)) + m_FAN*(-T_amb + T_bot)*(R_floor + m_FAN*x_FAN + q_FAN)/(R_floor*(m_FAN*x_FAN + q_FAN)**2))/(cp_Al*m_bot) + (0.5*I_HP**2*R_M + I_HP*S_M*T_bot - K_M*(T_bot - T_top) + Q_rest - (-T_amb + T_bot)*(R_floor + m_FAN*x_FAN + q_FAN)/(R_floor*(m_FAN*x_FAN + q_FAN)))/(cp_Al*m_bot)]])"
      ]
     },
     "metadata": {},
     "output_type": "display_data"
    },
    {
     "data": {
      "text/markdown": [
       "\\left[\\begin{matrix}\\frac{I_{FAN} x_{FAN}}{Q_{max} n_{BT}} - \\frac{I_{FAN} x_{FAN} + I_{LED} x_{LED} + I_{rest} + \\sqrt{I_{HP}^{2}}}{Q_{max} n_{BT}} + \\frac{\\sqrt{I_{HP}^{2}}}{Q_{max} n_{BT}}\\\\\\frac{I_{FAN} I_{LED} R_{BT} x_{FAN} x_{LED}}{cp_{Al} m_{top} n_{BT}} - \\frac{I_{HP} \\left(1.0 I_{HP} R_{M} - S_{M} T_{top} - \\frac{I_{LED} R_{BT} x_{LED} \\sqrt{I_{HP}^{2}}}{I_{HP} n_{BT}}\\right)}{cp_{Al} m_{top}} - \\frac{I_{LED} x_{LED} x_{SoC} \\left(a_{1} + 2 a_{2} x_{SoC} + 3 a_{3} x_{SoC}^{2}\\right)}{cp_{Al} m_{top}} - \\frac{K_{M} T_{bot}}{cp_{Al} m_{top}} - \\frac{T_{top} \\left(- I_{HP} S_{M} - K_{M} - \\frac{1}{R_{cell amb} + R_{top cell}}\\right)}{cp_{Al} m_{top}} + \\frac{0.5 I_{HP}^{2} R_{M} - I_{HP} S_{M} T_{top} + I_{LED} x_{LED} \\left(- \\frac{R_{BT} \\left(I_{FAN} x_{FAN} + I_{LED} x_{LED} + I_{rest} + \\sqrt{I_{HP}^{2}}\\right)}{n_{BT}} + a_{0} + a_{1} x_{SoC} + a_{2} x_{SoC}^{2} + a_{3} x_{SoC}^{3}\\right) + K_{M} \\left(T_{bot} - T_{top}\\right) - P_{rad} - \\frac{- T_{amb} + T_{top}}{R_{cell amb} + R_{top cell}}}{cp_{Al} m_{top}}\\\\- \\frac{I_{HP} \\left(1.0 I_{HP} R_{M} + S_{M} T_{bot}\\right)}{cp_{Al} m_{bot}} - \\frac{K_{M} T_{top}}{cp_{Al} m_{bot}} - \\frac{T_{bot} \\left(I_{HP} S_{M} - K_{M} - \\frac{R_{floor} + m_{FAN} x_{FAN} + q_{FAN}}{R_{floor} \\left(m_{FAN} x_{FAN} + q_{FAN}\\right)}\\right)}{cp_{Al} m_{bot}} - \\frac{x_{FAN} \\left(- \\frac{m_{FAN} \\left(- T_{amb} + T_{bot}\\right)}{R_{floor} \\left(m_{FAN} x_{FAN} + q_{FAN}\\right)} + \\frac{m_{FAN} \\left(- T_{amb} + T_{bot}\\right) \\left(R_{floor} + m_{FAN} x_{FAN} + q_{FAN}\\right)}{R_{floor} \\left(m_{FAN} x_{FAN} + q_{FAN}\\right)^{2}}\\right)}{cp_{Al} m_{bot}} + \\frac{0.5 I_{HP}^{2} R_{M} + I_{HP} S_{M} T_{bot} - K_{M} \\left(T_{bot} - T_{top}\\right) + Q_{rest} - \\frac{\\left(- T_{amb} + T_{bot}\\right) \\left(R_{floor} + m_{FAN} x_{FAN} + q_{FAN}\\right)}{R_{floor} \\left(m_{FAN} x_{FAN} + q_{FAN}\\right)}}{cp_{Al} m_{bot}}\\end{matrix}\\right]"
      ],
      "text/plain": [
       "<IPython.core.display.Markdown object>"
      ]
     },
     "metadata": {},
     "output_type": "display_data"
    }
   ],
   "source": [
    "h_cool = model.h_symb_cool\n",
    "\n",
    "display(Markdown(r\"$h = f(\\bar{x},\\bar{u}) - A\\bar{x} - B\\bar{u}$\"), h_cool)\n",
    "display(Markdown(sp.latex(h_cool)))"
   ]
  },
  {
   "cell_type": "code",
   "execution_count": 13,
   "metadata": {},
   "outputs": [
    {
     "data": {
      "text/markdown": [
       "$A = $"
      ],
      "text/plain": [
       "<IPython.core.display.Markdown object>"
      ]
     },
     "metadata": {},
     "output_type": "display_data"
    },
    {
     "data": {
      "text/plain": [
       "array([[ 0.        ,  0.        ,  0.        ],\n",
       "       [ 0.04470213, -0.00217603,  0.00217417],\n",
       "       [ 0.        ,  0.00317687, -0.02121945]], dtype=float32)"
      ]
     },
     "metadata": {},
     "output_type": "display_data"
    },
    {
     "data": {
      "text/markdown": [
       "\\mathtt{\\text{[[ 0.          0.          0.        ]\n",
       " [ 0.04470213 -0.00217603  0.00217417]\n",
       " [ 0.          0.00317687 -0.02121945]]}}"
      ],
      "text/plain": [
       "<IPython.core.display.Markdown object>"
      ]
     },
     "metadata": {},
     "output_type": "display_data"
    },
    {
     "data": {
      "text/markdown": [
       "$B = $"
      ],
      "text/plain": [
       "<IPython.core.display.Markdown object>"
      ]
     },
     "metadata": {},
     "output_type": "display_data"
    },
    {
     "data": {
      "text/plain": [
       "array([[-4.6296296e-05, -6.0185184e-06],\n",
       "       [ 1.4973526e-01, -2.3803351e-04],\n",
       "       [-1.8689510e-01, -3.2366165e+01]], dtype=float32)"
      ]
     },
     "metadata": {},
     "output_type": "display_data"
    },
    {
     "data": {
      "text/markdown": [
       "\\mathtt{\\text{[[-4.6296296e-05 -6.0185184e-06]\n",
       " [ 1.4973526e-01 -2.3803351e-04]\n",
       " [-1.8689510e-01 -3.2366165e+01]]}}"
      ],
      "text/plain": [
       "<IPython.core.display.Markdown object>"
      ]
     },
     "metadata": {},
     "output_type": "display_data"
    },
    {
     "data": {
      "text/markdown": [
       "$h = $"
      ],
      "text/plain": [
       "<IPython.core.display.Markdown object>"
      ]
     },
     "metadata": {},
     "output_type": "display_data"
    },
    {
     "data": {
      "text/plain": [
       "array([-2.1780666e-04,  7.0474097e-03,  3.7869370e+01], dtype=float32)"
      ]
     },
     "metadata": {},
     "output_type": "display_data"
    },
    {
     "data": {
      "text/markdown": [
       "\\mathtt{\\text{[-2.1780666e-04  7.0474097e-03  3.7869370e+01]}}"
      ],
      "text/plain": [
       "<IPython.core.display.Markdown object>"
      ]
     },
     "metadata": {},
     "output_type": "display_data"
    }
   ],
   "source": [
    "A, B, h, C, D, l, _, _ = model.get_continuous_linearization(T_ref=T_cell_ref, T_amb=T_amb, xss=x_op_cool, uss=u_op_cool)\n",
    "\n",
    "display(Markdown(r\"$A = $\"), A)\n",
    "display(Markdown(sp.latex(A)))\n",
    "\n",
    "display(Markdown(r\"$B = $\"), B)\n",
    "display(Markdown(sp.latex(B)))\n",
    "\n",
    "display(Markdown(r\"$h = $\"), h)\n",
    "display(Markdown(sp.latex(h)))"
   ]
  },
  {
   "cell_type": "code",
   "execution_count": 14,
   "metadata": {},
   "outputs": [
    {
     "data": {
      "text/markdown": [
       "$A_d = $"
      ],
      "text/plain": [
       "<IPython.core.display.Markdown object>"
      ]
     },
     "metadata": {},
     "output_type": "display_data"
    },
    {
     "data": {
      "text/plain": [
       "array([[1.0000000e+00, 1.6313227e-25, 1.3050582e-24],\n",
       "       [8.9210398e-02, 9.9567097e-01, 4.2480701e-03],\n",
       "       [2.7964366e-04, 6.2072254e-03, 9.5846242e-01]], dtype=float32)"
      ]
     },
     "metadata": {},
     "output_type": "display_data"
    },
    {
     "data": {
      "text/markdown": [
       "\\mathtt{\\text{[[1.0000000e+00 1.6313227e-25 1.3050582e-24]\n",
       " [8.9210398e-02 9.9567097e-01 4.2480701e-03]\n",
       " [2.7964366e-04 6.2072254e-03 9.5846242e-01]]}}"
      ],
      "text/plain": [
       "<IPython.core.display.Markdown object>"
      ]
     },
     "metadata": {},
     "output_type": "display_data"
    },
    {
     "data": {
      "text/markdown": [
       "$B_d = $"
      ],
      "text/plain": [
       "<IPython.core.display.Markdown object>"
      ]
     },
     "metadata": {},
     "output_type": "display_data"
    },
    {
     "data": {
      "text/plain": [
       "array([[-9.2592592e-05, -1.2037037e-05],\n",
       "       [ 2.9801688e-01, -1.3904333e-01],\n",
       "       [-3.6503458e-01, -6.3378265e+01]], dtype=float32)"
      ]
     },
     "metadata": {},
     "output_type": "display_data"
    },
    {
     "data": {
      "text/markdown": [
       "\\mathtt{\\text{[[-9.2592592e-05 -1.2037037e-05]\n",
       " [ 2.9801688e-01 -1.3904333e-01]\n",
       " [-3.6503458e-01 -6.3378265e+01]]}}"
      ],
      "text/plain": [
       "<IPython.core.display.Markdown object>"
      ]
     },
     "metadata": {},
     "output_type": "display_data"
    },
    {
     "data": {
      "text/markdown": [
       "$h_d = $"
      ],
      "text/plain": [
       "<IPython.core.display.Markdown object>"
      ]
     },
     "metadata": {},
     "output_type": "display_data"
    },
    {
     "data": {
      "text/plain": [
       "array([  -0.85015625, -571.3662    , -511.92215   ], dtype=float32)"
      ]
     },
     "metadata": {},
     "output_type": "display_data"
    },
    {
     "data": {
      "text/markdown": [
       "\\mathtt{\\text{[  -0.85015625 -571.3662     -511.92215   ]}}"
      ],
      "text/plain": [
       "<IPython.core.display.Markdown object>"
      ]
     },
     "metadata": {},
     "output_type": "display_data"
    }
   ],
   "source": [
    "Ad, Bd, hd, Cd, Dd, ld = model.get_discrete_linearization(T_ref=T_cell_ref, T_amb=T_amb, dt_d=dt_d, xss=x_op_cool, uss=u_op_cool)\n",
    "\n",
    "display(Markdown(r\"$A_d = $\"), Ad)\n",
    "display(Markdown(sp.latex(Ad)))\n",
    "\n",
    "display(Markdown(r\"$B_d = $\"), Bd)\n",
    "display(Markdown(sp.latex(Bd)))\n",
    "\n",
    "display(Markdown(r\"$h_d = $\"), hd)\n",
    "display(Markdown(sp.latex(hd)))"
   ]
  },
  {
   "cell_type": "markdown",
   "metadata": {},
   "source": [
    "# Heating"
   ]
  },
  {
   "cell_type": "code",
   "execution_count": 15,
   "metadata": {},
   "outputs": [
    {
     "data": {
      "text/markdown": [
       "$\\dot{x} = f(x, u)=$"
      ],
      "text/plain": [
       "<IPython.core.display.Markdown object>"
      ]
     },
     "metadata": {},
     "output_type": "display_data"
    },
    {
     "data": {
      "text/latex": [
       "$\\displaystyle \\left[\\begin{matrix}- \\frac{I_{FAN} x_{FAN} + I_{LED} x_{LED} + I_{rest} + \\sqrt{I_{HP}^{2}}}{Q_{max} n_{BT}}\\\\\\frac{0.5 I_{HP}^{2} R_{M} + I_{LED} x_{LED} \\left(- \\frac{R_{BT} \\left(I_{FAN} x_{FAN} + I_{LED} x_{LED} + I_{rest} + \\sqrt{I_{HP}^{2}}\\right)}{n_{BT}} + a_{0} + a_{1} x_{SoC} + a_{2} x_{SoC}^{2} + a_{3} x_{SoC}^{3}\\right) - K_{M} \\left(- T_{bot} + T_{top}\\right) - P_{rad} + S_{M} T_{top} \\sqrt{I_{HP}^{2}} - \\frac{- T_{amb} + T_{top}}{R_{cell amb} + R_{top cell}}}{cp_{Al} m_{top}}\\\\\\frac{0.5 I_{HP}^{2} R_{M} + K_{M} \\left(- T_{bot} + T_{top}\\right) + Q_{rest} - S_{M} T_{bot} \\sqrt{I_{HP}^{2}} - \\frac{\\left(- T_{amb} + T_{bot}\\right) \\left(R_{floor} + m_{FAN} x_{FAN} + q_{FAN}\\right)}{R_{floor} \\left(m_{FAN} x_{FAN} + q_{FAN}\\right)}}{cp_{Al} m_{bot}}\\end{matrix}\\right]$"
      ],
      "text/plain": [
       "Matrix([\n",
       "[                                                                                                                                                                                               -(I_FAN*x_FAN + I_LED*x_LED + I_rest + sqrt(I_HP**2))/(Q_max*n_BT)],\n",
       "[(0.5*I_HP**2*R_M + I_LED*x_LED*(-R_BT*(I_FAN*x_FAN + I_LED*x_LED + I_rest + sqrt(I_HP**2))/n_BT + a0 + a1*x_SoC + a2*x_SoC**2 + a3*x_SoC**3) - K_M*(-T_bot + T_top) - P_rad + S_M*T_top*sqrt(I_HP**2) - (-T_amb + T_top)/(R_cell_amb + R_top_cell))/(cp_Al*m_top)],\n",
       "[                                                                                     (0.5*I_HP**2*R_M + K_M*(-T_bot + T_top) + Q_rest - S_M*T_bot*sqrt(I_HP**2) - (-T_amb + T_bot)*(R_floor + m_FAN*x_FAN + q_FAN)/(R_floor*(m_FAN*x_FAN + q_FAN)))/(cp_Al*m_bot)]])"
      ]
     },
     "metadata": {},
     "output_type": "display_data"
    },
    {
     "data": {
      "text/markdown": [
       "\\left[\\begin{matrix}- \\frac{I_{FAN} x_{FAN} + I_{LED} x_{LED} + I_{rest} + \\sqrt{I_{HP}^{2}}}{Q_{max} n_{BT}}\\\\\\frac{0.5 I_{HP}^{2} R_{M} + I_{LED} x_{LED} \\left(- \\frac{R_{BT} \\left(I_{FAN} x_{FAN} + I_{LED} x_{LED} + I_{rest} + \\sqrt{I_{HP}^{2}}\\right)}{n_{BT}} + a_{0} + a_{1} x_{SoC} + a_{2} x_{SoC}^{2} + a_{3} x_{SoC}^{3}\\right) - K_{M} \\left(- T_{bot} + T_{top}\\right) - P_{rad} + S_{M} T_{top} \\sqrt{I_{HP}^{2}} - \\frac{- T_{amb} + T_{top}}{R_{cell amb} + R_{top cell}}}{cp_{Al} m_{top}}\\\\\\frac{0.5 I_{HP}^{2} R_{M} + K_{M} \\left(- T_{bot} + T_{top}\\right) + Q_{rest} - S_{M} T_{bot} \\sqrt{I_{HP}^{2}} - \\frac{\\left(- T_{amb} + T_{bot}\\right) \\left(R_{floor} + m_{FAN} x_{FAN} + q_{FAN}\\right)}{R_{floor} \\left(m_{FAN} x_{FAN} + q_{FAN}\\right)}}{cp_{Al} m_{bot}}\\end{matrix}\\right]"
      ],
      "text/plain": [
       "<IPython.core.display.Markdown object>"
      ]
     },
     "metadata": {},
     "output_type": "display_data"
    }
   ],
   "source": [
    "x_dot = model.f_symb_heat\n",
    "\n",
    "display(Markdown(r\"$\\dot{x} = f(x, u)=$\"), x_dot)\n",
    "display(Markdown(sp.latex(x_dot)))"
   ]
  },
  {
   "cell_type": "code",
   "execution_count": 16,
   "metadata": {},
   "outputs": [
    {
     "data": {
      "text/markdown": [
       "$A = \\nabla_x f = $"
      ],
      "text/plain": [
       "<IPython.core.display.Markdown object>"
      ]
     },
     "metadata": {},
     "output_type": "display_data"
    },
    {
     "data": {
      "text/latex": [
       "$\\displaystyle \\left[\\begin{matrix}0 & 0 & 0\\\\\\frac{I_{LED} x_{LED} \\left(a_{1} + 2 a_{2} x_{SoC} + 3 a_{3} x_{SoC}^{2}\\right)}{cp_{Al} m_{top}} & \\frac{- K_{M} + S_{M} \\sqrt{I_{HP}^{2}} - \\frac{1}{R_{cell amb} + R_{top cell}}}{cp_{Al} m_{top}} & \\frac{K_{M}}{cp_{Al} m_{top}}\\\\0 & \\frac{K_{M}}{cp_{Al} m_{bot}} & \\frac{- K_{M} - S_{M} \\sqrt{I_{HP}^{2}} - \\frac{R_{floor} + m_{FAN} x_{FAN} + q_{FAN}}{R_{floor} \\left(m_{FAN} x_{FAN} + q_{FAN}\\right)}}{cp_{Al} m_{bot}}\\end{matrix}\\right]$"
      ],
      "text/plain": [
       "Matrix([\n",
       "[                                                          0,                                                                      0,                                                                                                          0],\n",
       "[I_LED*x_LED*(a1 + 2*a2*x_SoC + 3*a3*x_SoC**2)/(cp_Al*m_top), (-K_M + S_M*sqrt(I_HP**2) - 1/(R_cell_amb + R_top_cell))/(cp_Al*m_top),                                                                                          K_M/(cp_Al*m_top)],\n",
       "[                                                          0,                                                      K_M/(cp_Al*m_bot), (-K_M - S_M*sqrt(I_HP**2) - (R_floor + m_FAN*x_FAN + q_FAN)/(R_floor*(m_FAN*x_FAN + q_FAN)))/(cp_Al*m_bot)]])"
      ]
     },
     "metadata": {},
     "output_type": "display_data"
    },
    {
     "data": {
      "text/markdown": [
       "\\left[\\begin{matrix}0 & 0 & 0\\\\\\frac{I_{LED} x_{LED} \\left(a_{1} + 2 a_{2} x_{SoC} + 3 a_{3} x_{SoC}^{2}\\right)}{cp_{Al} m_{top}} & \\frac{- K_{M} + S_{M} \\sqrt{I_{HP}^{2}} - \\frac{1}{R_{cell amb} + R_{top cell}}}{cp_{Al} m_{top}} & \\frac{K_{M}}{cp_{Al} m_{top}}\\\\0 & \\frac{K_{M}}{cp_{Al} m_{bot}} & \\frac{- K_{M} - S_{M} \\sqrt{I_{HP}^{2}} - \\frac{R_{floor} + m_{FAN} x_{FAN} + q_{FAN}}{R_{floor} \\left(m_{FAN} x_{FAN} + q_{FAN}\\right)}}{cp_{Al} m_{bot}}\\end{matrix}\\right]"
      ],
      "text/plain": [
       "<IPython.core.display.Markdown object>"
      ]
     },
     "metadata": {},
     "output_type": "display_data"
    }
   ],
   "source": [
    "A_heat = model.A_symb_heat\n",
    "\n",
    "display(Markdown(r\"$A = \\nabla_x f = $\"), A_heat)\n",
    "display(Markdown(sp.latex(A_heat)))"
   ]
  },
  {
   "cell_type": "code",
   "execution_count": 17,
   "metadata": {},
   "outputs": [
    {
     "data": {
      "text/markdown": [
       "$B = \\nabla_u f = $"
      ],
      "text/plain": [
       "<IPython.core.display.Markdown object>"
      ]
     },
     "metadata": {},
     "output_type": "display_data"
    },
    {
     "data": {
      "text/latex": [
       "$\\displaystyle \\left[\\begin{matrix}- \\frac{\\sqrt{I_{HP}^{2}}}{I_{HP} Q_{max} n_{BT}} & - \\frac{I_{FAN}}{Q_{max} n_{BT}}\\\\\\frac{1.0 I_{HP} R_{M} - \\frac{I_{LED} R_{BT} x_{LED} \\sqrt{I_{HP}^{2}}}{I_{HP} n_{BT}} + \\frac{S_{M} T_{top} \\sqrt{I_{HP}^{2}}}{I_{HP}}}{cp_{Al} m_{top}} & - \\frac{I_{FAN} I_{LED} R_{BT} x_{LED}}{cp_{Al} m_{top} n_{BT}}\\\\\\frac{1.0 I_{HP} R_{M} - \\frac{S_{M} T_{bot} \\sqrt{I_{HP}^{2}}}{I_{HP}}}{cp_{Al} m_{bot}} & \\frac{- \\frac{m_{FAN} \\left(- T_{amb} + T_{bot}\\right)}{R_{floor} \\left(m_{FAN} x_{FAN} + q_{FAN}\\right)} + \\frac{m_{FAN} \\left(- T_{amb} + T_{bot}\\right) \\left(R_{floor} + m_{FAN} x_{FAN} + q_{FAN}\\right)}{R_{floor} \\left(m_{FAN} x_{FAN} + q_{FAN}\\right)^{2}}}{cp_{Al} m_{bot}}\\end{matrix}\\right]$"
      ],
      "text/plain": [
       "Matrix([\n",
       "[                                                                        -sqrt(I_HP**2)/(I_HP*Q_max*n_BT),                                                                                                                                                 -I_FAN/(Q_max*n_BT)],\n",
       "[(1.0*I_HP*R_M - I_LED*R_BT*x_LED*sqrt(I_HP**2)/(I_HP*n_BT) + S_M*T_top*sqrt(I_HP**2)/I_HP)/(cp_Al*m_top),                                                                                                                          -I_FAN*I_LED*R_BT*x_LED/(cp_Al*m_top*n_BT)],\n",
       "[                                             (1.0*I_HP*R_M - S_M*T_bot*sqrt(I_HP**2)/I_HP)/(cp_Al*m_bot), (-m_FAN*(-T_amb + T_bot)/(R_floor*(m_FAN*x_FAN + q_FAN)) + m_FAN*(-T_amb + T_bot)*(R_floor + m_FAN*x_FAN + q_FAN)/(R_floor*(m_FAN*x_FAN + q_FAN)**2))/(cp_Al*m_bot)]])"
      ]
     },
     "metadata": {},
     "output_type": "display_data"
    },
    {
     "data": {
      "text/markdown": [
       "\\left[\\begin{matrix}- \\frac{\\sqrt{I_{HP}^{2}}}{I_{HP} Q_{max} n_{BT}} & - \\frac{I_{FAN}}{Q_{max} n_{BT}}\\\\\\frac{1.0 I_{HP} R_{M} - \\frac{I_{LED} R_{BT} x_{LED} \\sqrt{I_{HP}^{2}}}{I_{HP} n_{BT}} + \\frac{S_{M} T_{top} \\sqrt{I_{HP}^{2}}}{I_{HP}}}{cp_{Al} m_{top}} & - \\frac{I_{FAN} I_{LED} R_{BT} x_{LED}}{cp_{Al} m_{top} n_{BT}}\\\\\\frac{1.0 I_{HP} R_{M} - \\frac{S_{M} T_{bot} \\sqrt{I_{HP}^{2}}}{I_{HP}}}{cp_{Al} m_{bot}} & \\frac{- \\frac{m_{FAN} \\left(- T_{amb} + T_{bot}\\right)}{R_{floor} \\left(m_{FAN} x_{FAN} + q_{FAN}\\right)} + \\frac{m_{FAN} \\left(- T_{amb} + T_{bot}\\right) \\left(R_{floor} + m_{FAN} x_{FAN} + q_{FAN}\\right)}{R_{floor} \\left(m_{FAN} x_{FAN} + q_{FAN}\\right)^{2}}}{cp_{Al} m_{bot}}\\end{matrix}\\right]"
      ],
      "text/plain": [
       "<IPython.core.display.Markdown object>"
      ]
     },
     "metadata": {},
     "output_type": "display_data"
    }
   ],
   "source": [
    "B_heat = model.B_symb_heat\n",
    "\n",
    "display(Markdown(r\"$B = \\nabla_u f = $\"), B_heat)\n",
    "display(Markdown(sp.latex(B_heat)))"
   ]
  },
  {
   "cell_type": "code",
   "execution_count": 18,
   "metadata": {},
   "outputs": [
    {
     "data": {
      "text/markdown": [
       "$h = f(\\bar{x},\\bar{u}) - A\\bar{x} - B\\bar{u}$"
      ],
      "text/plain": [
       "<IPython.core.display.Markdown object>"
      ]
     },
     "metadata": {},
     "output_type": "display_data"
    },
    {
     "data": {
      "text/latex": [
       "$\\displaystyle \\left[\\begin{matrix}\\frac{I_{FAN} x_{FAN}}{Q_{max} n_{BT}} - \\frac{I_{FAN} x_{FAN} + I_{LED} x_{LED} + I_{rest} + \\sqrt{I_{HP}^{2}}}{Q_{max} n_{BT}} + \\frac{\\sqrt{I_{HP}^{2}}}{Q_{max} n_{BT}}\\\\\\frac{I_{FAN} I_{LED} R_{BT} x_{FAN} x_{LED}}{cp_{Al} m_{top} n_{BT}} - \\frac{I_{HP} \\left(1.0 I_{HP} R_{M} - \\frac{I_{LED} R_{BT} x_{LED} \\sqrt{I_{HP}^{2}}}{I_{HP} n_{BT}} + \\frac{S_{M} T_{top} \\sqrt{I_{HP}^{2}}}{I_{HP}}\\right)}{cp_{Al} m_{top}} - \\frac{I_{LED} x_{LED} x_{SoC} \\left(a_{1} + 2 a_{2} x_{SoC} + 3 a_{3} x_{SoC}^{2}\\right)}{cp_{Al} m_{top}} - \\frac{K_{M} T_{bot}}{cp_{Al} m_{top}} - \\frac{T_{top} \\left(- K_{M} + S_{M} \\sqrt{I_{HP}^{2}} - \\frac{1}{R_{cell amb} + R_{top cell}}\\right)}{cp_{Al} m_{top}} + \\frac{0.5 I_{HP}^{2} R_{M} + I_{LED} x_{LED} \\left(- \\frac{R_{BT} \\left(I_{FAN} x_{FAN} + I_{LED} x_{LED} + I_{rest} + \\sqrt{I_{HP}^{2}}\\right)}{n_{BT}} + a_{0} + a_{1} x_{SoC} + a_{2} x_{SoC}^{2} + a_{3} x_{SoC}^{3}\\right) - K_{M} \\left(- T_{bot} + T_{top}\\right) - P_{rad} + S_{M} T_{top} \\sqrt{I_{HP}^{2}} - \\frac{- T_{amb} + T_{top}}{R_{cell amb} + R_{top cell}}}{cp_{Al} m_{top}}\\\\- \\frac{I_{HP} \\left(1.0 I_{HP} R_{M} - \\frac{S_{M} T_{bot} \\sqrt{I_{HP}^{2}}}{I_{HP}}\\right)}{cp_{Al} m_{bot}} - \\frac{K_{M} T_{top}}{cp_{Al} m_{bot}} - \\frac{T_{bot} \\left(- K_{M} - S_{M} \\sqrt{I_{HP}^{2}} - \\frac{R_{floor} + m_{FAN} x_{FAN} + q_{FAN}}{R_{floor} \\left(m_{FAN} x_{FAN} + q_{FAN}\\right)}\\right)}{cp_{Al} m_{bot}} - \\frac{x_{FAN} \\left(- \\frac{m_{FAN} \\left(- T_{amb} + T_{bot}\\right)}{R_{floor} \\left(m_{FAN} x_{FAN} + q_{FAN}\\right)} + \\frac{m_{FAN} \\left(- T_{amb} + T_{bot}\\right) \\left(R_{floor} + m_{FAN} x_{FAN} + q_{FAN}\\right)}{R_{floor} \\left(m_{FAN} x_{FAN} + q_{FAN}\\right)^{2}}\\right)}{cp_{Al} m_{bot}} + \\frac{0.5 I_{HP}^{2} R_{M} + K_{M} \\left(- T_{bot} + T_{top}\\right) + Q_{rest} - S_{M} T_{bot} \\sqrt{I_{HP}^{2}} - \\frac{\\left(- T_{amb} + T_{bot}\\right) \\left(R_{floor} + m_{FAN} x_{FAN} + q_{FAN}\\right)}{R_{floor} \\left(m_{FAN} x_{FAN} + q_{FAN}\\right)}}{cp_{Al} m_{bot}}\\end{matrix}\\right]$"
      ],
      "text/plain": [
       "Matrix([\n",
       "[                                                                                                                                                                                                                                                                                                                                                                                                                                                                                       I_FAN*x_FAN/(Q_max*n_BT) - (I_FAN*x_FAN + I_LED*x_LED + I_rest + sqrt(I_HP**2))/(Q_max*n_BT) + sqrt(I_HP**2)/(Q_max*n_BT)],\n",
       "[I_FAN*I_LED*R_BT*x_FAN*x_LED/(cp_Al*m_top*n_BT) - I_HP*(1.0*I_HP*R_M - I_LED*R_BT*x_LED*sqrt(I_HP**2)/(I_HP*n_BT) + S_M*T_top*sqrt(I_HP**2)/I_HP)/(cp_Al*m_top) - I_LED*x_LED*x_SoC*(a1 + 2*a2*x_SoC + 3*a3*x_SoC**2)/(cp_Al*m_top) - K_M*T_bot/(cp_Al*m_top) - T_top*(-K_M + S_M*sqrt(I_HP**2) - 1/(R_cell_amb + R_top_cell))/(cp_Al*m_top) + (0.5*I_HP**2*R_M + I_LED*x_LED*(-R_BT*(I_FAN*x_FAN + I_LED*x_LED + I_rest + sqrt(I_HP**2))/n_BT + a0 + a1*x_SoC + a2*x_SoC**2 + a3*x_SoC**3) - K_M*(-T_bot + T_top) - P_rad + S_M*T_top*sqrt(I_HP**2) - (-T_amb + T_top)/(R_cell_amb + R_top_cell))/(cp_Al*m_top)],\n",
       "[                                       -I_HP*(1.0*I_HP*R_M - S_M*T_bot*sqrt(I_HP**2)/I_HP)/(cp_Al*m_bot) - K_M*T_top/(cp_Al*m_bot) - T_bot*(-K_M - S_M*sqrt(I_HP**2) - (R_floor + m_FAN*x_FAN + q_FAN)/(R_floor*(m_FAN*x_FAN + q_FAN)))/(cp_Al*m_bot) - x_FAN*(-m_FAN*(-T_amb + T_bot)/(R_floor*(m_FAN*x_FAN + q_FAN)) + m_FAN*(-T_amb + T_bot)*(R_floor + m_FAN*x_FAN + q_FAN)/(R_floor*(m_FAN*x_FAN + q_FAN)**2))/(cp_Al*m_bot) + (0.5*I_HP**2*R_M + K_M*(-T_bot + T_top) + Q_rest - S_M*T_bot*sqrt(I_HP**2) - (-T_amb + T_bot)*(R_floor + m_FAN*x_FAN + q_FAN)/(R_floor*(m_FAN*x_FAN + q_FAN)))/(cp_Al*m_bot)]])"
      ]
     },
     "metadata": {},
     "output_type": "display_data"
    },
    {
     "data": {
      "text/markdown": [
       "\\left[\\begin{matrix}\\frac{I_{FAN} x_{FAN}}{Q_{max} n_{BT}} - \\frac{I_{FAN} x_{FAN} + I_{LED} x_{LED} + I_{rest} + \\sqrt{I_{HP}^{2}}}{Q_{max} n_{BT}} + \\frac{\\sqrt{I_{HP}^{2}}}{Q_{max} n_{BT}}\\\\\\frac{I_{FAN} I_{LED} R_{BT} x_{FAN} x_{LED}}{cp_{Al} m_{top} n_{BT}} - \\frac{I_{HP} \\left(1.0 I_{HP} R_{M} - \\frac{I_{LED} R_{BT} x_{LED} \\sqrt{I_{HP}^{2}}}{I_{HP} n_{BT}} + \\frac{S_{M} T_{top} \\sqrt{I_{HP}^{2}}}{I_{HP}}\\right)}{cp_{Al} m_{top}} - \\frac{I_{LED} x_{LED} x_{SoC} \\left(a_{1} + 2 a_{2} x_{SoC} + 3 a_{3} x_{SoC}^{2}\\right)}{cp_{Al} m_{top}} - \\frac{K_{M} T_{bot}}{cp_{Al} m_{top}} - \\frac{T_{top} \\left(- K_{M} + S_{M} \\sqrt{I_{HP}^{2}} - \\frac{1}{R_{cell amb} + R_{top cell}}\\right)}{cp_{Al} m_{top}} + \\frac{0.5 I_{HP}^{2} R_{M} + I_{LED} x_{LED} \\left(- \\frac{R_{BT} \\left(I_{FAN} x_{FAN} + I_{LED} x_{LED} + I_{rest} + \\sqrt{I_{HP}^{2}}\\right)}{n_{BT}} + a_{0} + a_{1} x_{SoC} + a_{2} x_{SoC}^{2} + a_{3} x_{SoC}^{3}\\right) - K_{M} \\left(- T_{bot} + T_{top}\\right) - P_{rad} + S_{M} T_{top} \\sqrt{I_{HP}^{2}} - \\frac{- T_{amb} + T_{top}}{R_{cell amb} + R_{top cell}}}{cp_{Al} m_{top}}\\\\- \\frac{I_{HP} \\left(1.0 I_{HP} R_{M} - \\frac{S_{M} T_{bot} \\sqrt{I_{HP}^{2}}}{I_{HP}}\\right)}{cp_{Al} m_{bot}} - \\frac{K_{M} T_{top}}{cp_{Al} m_{bot}} - \\frac{T_{bot} \\left(- K_{M} - S_{M} \\sqrt{I_{HP}^{2}} - \\frac{R_{floor} + m_{FAN} x_{FAN} + q_{FAN}}{R_{floor} \\left(m_{FAN} x_{FAN} + q_{FAN}\\right)}\\right)}{cp_{Al} m_{bot}} - \\frac{x_{FAN} \\left(- \\frac{m_{FAN} \\left(- T_{amb} + T_{bot}\\right)}{R_{floor} \\left(m_{FAN} x_{FAN} + q_{FAN}\\right)} + \\frac{m_{FAN} \\left(- T_{amb} + T_{bot}\\right) \\left(R_{floor} + m_{FAN} x_{FAN} + q_{FAN}\\right)}{R_{floor} \\left(m_{FAN} x_{FAN} + q_{FAN}\\right)^{2}}\\right)}{cp_{Al} m_{bot}} + \\frac{0.5 I_{HP}^{2} R_{M} + K_{M} \\left(- T_{bot} + T_{top}\\right) + Q_{rest} - S_{M} T_{bot} \\sqrt{I_{HP}^{2}} - \\frac{\\left(- T_{amb} + T_{bot}\\right) \\left(R_{floor} + m_{FAN} x_{FAN} + q_{FAN}\\right)}{R_{floor} \\left(m_{FAN} x_{FAN} + q_{FAN}\\right)}}{cp_{Al} m_{bot}}\\end{matrix}\\right]"
      ],
      "text/plain": [
       "<IPython.core.display.Markdown object>"
      ]
     },
     "metadata": {},
     "output_type": "display_data"
    }
   ],
   "source": [
    "h_heat = model.h_symb_heat\n",
    "\n",
    "display(Markdown(r\"$h = f(\\bar{x},\\bar{u}) - A\\bar{x} - B\\bar{u}$\"), h_heat)\n",
    "display(Markdown(sp.latex(h_heat)))"
   ]
  },
  {
   "cell_type": "code",
   "execution_count": 19,
   "metadata": {},
   "outputs": [
    {
     "data": {
      "text/markdown": [
       "$A = $"
      ],
      "text/plain": [
       "<IPython.core.display.Markdown object>"
      ]
     },
     "metadata": {},
     "output_type": "display_data"
    },
    {
     "data": {
      "text/plain": [
       "array([[ 0.        ,  0.        ,  0.        ],\n",
       "       [ 0.04470213, -0.00217603,  0.00217417],\n",
       "       [ 0.        ,  0.00317687, -0.02121945]], dtype=float32)"
      ]
     },
     "metadata": {},
     "output_type": "display_data"
    },
    {
     "data": {
      "text/markdown": [
       "\\mathtt{\\text{[[ 0.          0.          0.        ]\n",
       " [ 0.04470213 -0.00217603  0.00217417]\n",
       " [ 0.          0.00317687 -0.02121945]]}}"
      ],
      "text/plain": [
       "<IPython.core.display.Markdown object>"
      ]
     },
     "metadata": {},
     "output_type": "display_data"
    },
    {
     "data": {
      "text/markdown": [
       "$B = $"
      ],
      "text/plain": [
       "<IPython.core.display.Markdown object>"
      ]
     },
     "metadata": {},
     "output_type": "display_data"
    },
    {
     "data": {
      "text/plain": [
       "array([[ 4.6296296e-05, -6.0185184e-06],\n",
       "       [-1.5454298e-01, -2.3803351e-04],\n",
       "       [ 1.7987013e-01, -3.0158001e+01]], dtype=float32)"
      ]
     },
     "metadata": {},
     "output_type": "display_data"
    },
    {
     "data": {
      "text/markdown": [
       "\\mathtt{\\text{[[ 4.6296296e-05 -6.0185184e-06]\n",
       " [-1.5454298e-01 -2.3803351e-04]\n",
       " [ 1.7987013e-01 -3.0158001e+01]]}}"
      ],
      "text/plain": [
       "<IPython.core.display.Markdown object>"
      ]
     },
     "metadata": {},
     "output_type": "display_data"
    },
    {
     "data": {
      "text/markdown": [
       "$h = $"
      ],
      "text/plain": [
       "<IPython.core.display.Markdown object>"
      ]
     },
     "metadata": {},
     "output_type": "display_data"
    },
    {
     "data": {
      "text/plain": [
       "array([-2.1780666e-04,  1.2781484e-03,  3.5652775e+01], dtype=float32)"
      ]
     },
     "metadata": {},
     "output_type": "display_data"
    },
    {
     "data": {
      "text/markdown": [
       "\\mathtt{\\text{[-2.1780666e-04  1.2781484e-03  3.5652775e+01]}}"
      ],
      "text/plain": [
       "<IPython.core.display.Markdown object>"
      ]
     },
     "metadata": {},
     "output_type": "display_data"
    }
   ],
   "source": [
    "A, B, h, C, D, l, _, _ = model.get_continuous_linearization(T_ref=T_cell_ref, T_amb=T_amb, xss=x_op_heat, uss=u_op_heat)\n",
    "\n",
    "display(Markdown(r\"$A = $\"), A)\n",
    "display(Markdown(sp.latex(A)))\n",
    "\n",
    "display(Markdown(r\"$B = $\"), B)\n",
    "display(Markdown(sp.latex(B)))\n",
    "\n",
    "display(Markdown(r\"$h = $\"), h)\n",
    "display(Markdown(sp.latex(h)))"
   ]
  },
  {
   "cell_type": "code",
   "execution_count": 20,
   "metadata": {},
   "outputs": [
    {
     "data": {
      "text/markdown": [
       "$A_d = $"
      ],
      "text/plain": [
       "<IPython.core.display.Markdown object>"
      ]
     },
     "metadata": {},
     "output_type": "display_data"
    },
    {
     "data": {
      "text/plain": [
       "array([[1.0000000e+00, 0.0000000e+00, 0.0000000e+00],\n",
       "       [8.9210398e-02, 9.9567097e-01, 4.2480701e-03],\n",
       "       [2.7964366e-04, 6.2072254e-03, 9.5846242e-01]], dtype=float32)"
      ]
     },
     "metadata": {},
     "output_type": "display_data"
    },
    {
     "data": {
      "text/markdown": [
       "\\mathtt{\\text{[[1.0000000e+00 0.0000000e+00 0.0000000e+00]\n",
       " [8.9210398e-02 9.9567097e-01 4.2480701e-03]\n",
       " [2.7964366e-04 6.2072254e-03 9.5846242e-01]]}}"
      ],
      "text/plain": [
       "<IPython.core.display.Markdown object>"
      ]
     },
     "metadata": {},
     "output_type": "display_data"
    },
    {
     "data": {
      "text/markdown": [
       "$B_d = $"
      ],
      "text/plain": [
       "<IPython.core.display.Markdown object>"
      ]
     },
     "metadata": {},
     "output_type": "display_data"
    },
    {
     "data": {
      "text/plain": [
       "array([[ 9.2592592e-05, -1.2037037e-05],\n",
       "       [-3.0764157e-01, -1.2958962e-01],\n",
       "       [ 3.5124847e-01, -5.9054317e+01]], dtype=float32)"
      ]
     },
     "metadata": {},
     "output_type": "display_data"
    },
    {
     "data": {
      "text/markdown": [
       "\\mathtt{\\text{[[ 9.2592592e-05 -1.2037037e-05]\n",
       " [-3.0764157e-01 -1.2958962e-01]\n",
       " [ 3.5124847e-01 -5.9054317e+01]]}}"
      ],
      "text/plain": [
       "<IPython.core.display.Markdown object>"
      ]
     },
     "metadata": {},
     "output_type": "display_data"
    },
    {
     "data": {
      "text/markdown": [
       "$h_d = $"
      ],
      "text/plain": [
       "<IPython.core.display.Markdown object>"
      ]
     },
     "metadata": {},
     "output_type": "display_data"
    },
    {
     "data": {
      "text/plain": [
       "array([  -0.85015625, -591.3027    , -496.72958   ], dtype=float32)"
      ]
     },
     "metadata": {},
     "output_type": "display_data"
    },
    {
     "data": {
      "text/markdown": [
       "\\mathtt{\\text{[  -0.85015625 -591.3027     -496.72958   ]}}"
      ],
      "text/plain": [
       "<IPython.core.display.Markdown object>"
      ]
     },
     "metadata": {},
     "output_type": "display_data"
    }
   ],
   "source": [
    "Ad, Bd, hd, Cd, Dd, ld = model.get_discrete_linearization(T_ref=T_cell_ref, T_amb=T_amb, dt_d=dt_d, xss=x_op_heat, uss=u_op_heat)\n",
    "\n",
    "display(Markdown(r\"$A_d = $\"), Ad)\n",
    "display(Markdown(sp.latex(Ad)))\n",
    "\n",
    "display(Markdown(r\"$B_d = $\"), Bd)\n",
    "display(Markdown(sp.latex(Bd)))\n",
    "\n",
    "display(Markdown(r\"$h_d = $\"), hd)\n",
    "display(Markdown(sp.latex(hd)))"
   ]
  },
  {
   "cell_type": "code",
   "execution_count": 21,
   "metadata": {},
   "outputs": [],
   "source": [
    "# Save matrices as csv\n",
    "if save_ss_matrices:\n",
    "    type = 'continuous'\n",
    "    model.save_linearized_model(type=type, T_ref=T_cell_ref, T_amb=T_amb)\n",
    "    type = 'discrete'\n",
    "    model.save_linearized_model(type, T_ref=T_cell_ref, T_amb=T_amb, Ts=dt_d)"
   ]
  }
 ],
 "metadata": {
  "kernelspec": {
   "display_name": "venv",
   "language": "python",
   "name": "python3"
  },
  "language_info": {
   "codemirror_mode": {
    "name": "ipython",
    "version": 3
   },
   "file_extension": ".py",
   "mimetype": "text/x-python",
   "name": "python",
   "nbconvert_exporter": "python",
   "pygments_lexer": "ipython3",
   "version": "3.11.9"
  }
 },
 "nbformat": 4,
 "nbformat_minor": 2
}
