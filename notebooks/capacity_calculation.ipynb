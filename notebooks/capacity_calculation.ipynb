{
 "cells": [
  {
   "cell_type": "code",
   "execution_count": 9,
   "metadata": {},
   "outputs": [
    {
     "name": "stdout",
     "output_type": "stream",
     "text": [
      "C_H2O = 96.5191510962392 J/K\n",
      "C_Al = 114.816 J/K\n"
     ]
    }
   ],
   "source": [
    "import numpy as np\n",
    "\n",
    "cp_Al = 897.0 # J/kgK\n",
    "m_4 = 0.0642 # kg\n",
    "m_2 = 0.0638 # kg\n",
    "m_tot = m_4 + m_2 # kg\n",
    "\n",
    "cp_H2O = 4180 # J/kgK\n",
    "density_H2O = 1000 # kg/m^3\n",
    "\n",
    "# Single hole\n",
    "diameter = 7 # mm\n",
    "cross_section = np.pi * (diameter/10/2)**2 # cm^2\n",
    "height = 1 # cm\n",
    "\n",
    "volume = cross_section / 10000 * height / 100 # m^3\n",
    "\n",
    "# Multiple holes\n",
    "plate_row = 8\n",
    "plate_col = 12\n",
    "max_holes = plate_row * plate_col\n",
    "filled_holes = 60\n",
    "assert filled_holes <= max_holes\n",
    "\n",
    "m_H2O = filled_holes * density_H2O * volume # kg\n",
    "\n",
    "print(f\"C_H2O = {m_H2O * cp_H2O} J/K\")\n",
    "print(f\"C_Al = {m_tot * cp_Al} J/K\")"
   ]
  }
 ],
 "metadata": {
  "kernelspec": {
   "display_name": "Python 3",
   "language": "python",
   "name": "python3"
  },
  "language_info": {
   "codemirror_mode": {
    "name": "ipython",
    "version": 3
   },
   "file_extension": ".py",
   "mimetype": "text/x-python",
   "name": "python",
   "nbconvert_exporter": "python",
   "pygments_lexer": "ipython3",
   "version": "3.11.9"
  }
 },
 "nbformat": 4,
 "nbformat_minor": 2
}
