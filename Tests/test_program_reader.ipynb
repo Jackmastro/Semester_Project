{
 "cells": [
  {
   "cell_type": "code",
   "execution_count": 5,
   "metadata": {},
   "outputs": [],
   "source": [
    "import pandas as pd\n",
    "import numpy as np"
   ]
  },
  {
   "cell_type": "code",
   "execution_count": 6,
   "metadata": {},
   "outputs": [],
   "source": [
    "# Assuming all LEDs use the same current\n",
    "I_LED = 0.02 # A\n",
    "U_sys = 4.2 # V\n",
    "x_LED_PWM = 0.5 # 50% duty cycle\n",
    "\n",
    "# TODO check the order of the indices from the Program\n",
    "radiant_power_dict = {\n",
    "    'UV'    : 6.0,\n",
    "    'Red'   : 4.0,\n",
    "    'Blue'  : 5.0,\n",
    "    'Green' : 4.5,\n",
    "    'Purple': 5.5,\n",
    "    'Orange': 4.0,\n",
    "    'IR'    : 3.0\n",
    "} # mW/cm^2\n",
    "\n",
    "specific_radiant_power = np.array([radiant_power_dict[color] for color in radiant_power_dict.keys()]) # mW/cm^2\n",
    "\n",
    "# Single hole\n",
    "diameter = 7 # mm\n",
    "cross_section = np.pi * (diameter/10/2)**2 # cm^2\n",
    "radiant_power = cross_section * specific_radiant_power / 1000 # W\n",
    "\n",
    "# radiant_power_df = pd.DataFrame(radiant_power, index=radiant_power_dict.keys(), columns=['Radiant Power (W)'])\n",
    "\n",
    "num_colors = len(specific_radiant_power)\n",
    "plate_row = 8\n",
    "plate_col = 12\n",
    "\n",
    "# Populate the matrix with random values from 0 to 2^16-1\n",
    "# M = np.random.randint(0, 2**16-1, (num_colors, plate_row, plate_col))\n",
    "# M[0, 0, 0] = 0\n",
    "M = np.ones((num_colors, plate_row, plate_col)) * (2**16-1) / 1\n",
    "\n",
    "# Scale the matrix to the range of 0 to 1\n",
    "M_scaled = M / (2**16-1)"
   ]
  },
  {
   "cell_type": "code",
   "execution_count": 7,
   "metadata": {},
   "outputs": [
    {
     "name": "stdout",
     "output_type": "stream",
     "text": [
      "Total LED power: 28.22 W\n",
      "Total radiant power: 1.18 W\n",
      "Total LED power loss: 27.04 W\n"
     ]
    }
   ],
   "source": [
    "# Multiply M by the radiant power in the diretions of the colors\n",
    "M_radiant_power = np.multiply(M_scaled, radiant_power[:, np.newaxis, np.newaxis]) # or *\n",
    "P_r = np.sum(M_radiant_power) # W\n",
    "\n",
    "# TODO multiply the current by the number of active LEDs???\n",
    "num_active_LED = np.sum(M_scaled > 0)\n",
    "P_LED = num_active_LED * I_LED * U_sys * x_LED_PWM # W\n",
    "\n",
    "Q_LED_tot = P_LED - P_r # W\n",
    "print(f\"Total LED power: {P_LED:.2f} W\")\n",
    "print(f\"Total radiant power: {P_r:.2f} W\")\n",
    "print(f\"Total LED power loss: {Q_LED_tot:.2f} W\")\n"
   ]
  },
  {
   "cell_type": "markdown",
   "metadata": {},
   "source": [
    "Problem that with constant light emitted, the power consumption is the same and does not decrease with a lower M: what is x_LED_PWM??"
   ]
  }
 ],
 "metadata": {
  "kernelspec": {
   "display_name": "Python 3",
   "language": "python",
   "name": "python3"
  },
  "language_info": {
   "codemirror_mode": {
    "name": "ipython",
    "version": 3
   },
   "file_extension": ".py",
   "mimetype": "text/x-python",
   "name": "python",
   "nbconvert_exporter": "python",
   "pygments_lexer": "ipython3",
   "version": "3.11.9"
  }
 },
 "nbformat": 4,
 "nbformat_minor": 2
}
