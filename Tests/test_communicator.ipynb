{
 "cells": [
  {
   "cell_type": "code",
   "execution_count": 3,
   "metadata": {},
   "outputs": [],
   "source": [
    "import sys\n",
    "import os\n",
    "\n",
    "# Add the parent directory to sys.path\n",
    "sys.path.append(os.path.abspath(os.path.join(os.getcwd(), \"..\")))\n",
    "\n",
    "from Classes.Communicator import Communicator\n",
    "\n",
    "diya_name = \"06\"\n",
    "comm = Communicator(diya_name, save_data=True, save_frequency=2, choose_specific_directory=False, verbose=True)"
   ]
  },
  {
   "cell_type": "code",
   "execution_count": 4,
   "metadata": {},
   "outputs": [
    {
     "name": "stdout",
     "output_type": "stream",
     "text": [
      "Communicator startedSubscribed to diya06/rx/\n",
      "\n",
      "Message sent: x_HP = 0, x_FAN = 0\n",
      "Received non-standard message: TMP&U\t 28.01\t 27.92\t 30.71\tINA219\tBus Voltage: 798 --\tShunt Voltage: 1 --\ti: 0 --\tState:\t1\n",
      "Received non-standard message: rxBuffer:\tHELLO\n",
      "Received non-standard message: S\n",
      "Received non-standard message: Command not recognized.\n",
      "Received non-standard message: State:\t-1\n",
      "Received non-standard message: rxBuffer:\tHELLO\n",
      "Received non-standard message: S\n",
      "                              T_1    T_2    T_3  x_HP  x_FAN\n",
      "2024-10-30 13:30:42.510073  28.02  27.94  30.68     0      0\n",
      "Received non-standard message: TMP&U\t 28.02\t 27.94\t 30.68\tINA219\tBus Voltage: 798 --\tShunt Voltage: 1 --\ti: 0 --\t20000101T194847\tTMP&U\t 28.03\t 27.95\t 30.65\tPel\n"
     ]
    },
    {
     "name": "stderr",
     "output_type": "stream",
     "text": [
      "c:\\Users\\giaco\\Git_Repositories\\Semester_Thesis_1\\Classes\\Communicator.py:89: FutureWarning: The behavior of array concatenation with empty entries is deprecated. In a future version, this will no longer exclude empty items when determining the result dtype. To retain the old behavior, exclude the empty entries before the concat operation.\n",
      "  self.measurements = pd.concat([self.measurements, self.last_measurement])\n",
      "c:\\Users\\giaco\\Git_Repositories\\Semester_Thesis_1\\Classes\\Communicator.py:89: FutureWarning: The behavior of DataFrame concatenation with empty or all-NA entries is deprecated. In a future version, this will no longer exclude empty or all-NA columns when determining the result dtypes. To retain the old behavior, exclude the relevant entries before the concat operation.\n",
      "  self.measurements = pd.concat([self.measurements, self.last_measurement])\n"
     ]
    },
    {
     "name": "stdout",
     "output_type": "stream",
     "text": [
      "Data saved to history\n",
      "Received non-standard message: TMP&U\t 28.03\t 27.95\t 30.65\tINA219\tBus Voltage: 798 --\tShunt Voltage: 1 --\ti: 0 --\t20000101T194848\tTMP&U\t 28.03\t 27.96\t 30.62\tPel\n",
      "Received non-standard message: TMP&U\t 28.03\t 27.96\t 30.62\tINA219\tBus Voltage: 798 --\tShunt Voltage: 1 --\ti: 0 --\t20000101T194849\tTMP&U\t 28.04\t 27.97\t 30.59\tPel\n",
      "Data saved to history\n",
      "Received non-standard message: TMP&U\t 28.04\t 27.97\t 30.59\tINA219\tBus Voltage: 798 --\tShunt Voltage: 1 --\ti: 0 --\t20000101T194850\tTMP&U\t 28.05\t 27.98\t 30.57\tPel\n",
      "Received non-standard message: TMP&U\t 28.05\t 27.98\t 30.57\tINA219\tBus Voltage: 798 --\tShunt Voltage: 1 --\ti: 0 --\t20000101T194851\tTMP&U\t 28.06\t 27.99\t 30.53\tPel\n",
      "Data saved to history\n",
      "Received non-standard message: TMP&U\t 28.06\t 27.99\t 30.53\tINA219\tBus Voltage: 798 --\tShunt Voltage: 1 --\ti: 0 --\t20000101T194852\tTMP&U\t 28.07\t 28.00\t 30.51\tPel\n",
      "Received non-standard message: TMP&U\t 28.07\t 28.00\t 30.51\tINA219\tBus Voltage: 798 --\tShunt Voltage: 1 --\ti: 0 --\t20000101T194853\tTMP&U\t 28.07\t 28.00\t 30.48\tPel\n",
      "Data saved to history\n",
      "Received non-standard message: TMP&U\t 28.07\t 28.00\t 30.48\tINA219\tBus Voltage: 798 --\tShunt Voltage: 1 --\ti: 0 --\t20000101T194854\tTMP&U\t 28.08\t 28.02\t 30.46\tPel\n",
      "Received non-standard message: TMP&U\t 28.08\t 28.02\t 30.46\tINA219\tBus Voltage: 798 --\tShunt Voltage: 1 --\ti: 0 --\t20000101T194855\tTMP&U\t 28.09\t 28.03\t 30.44\tPel\n",
      "Data saved to history\n",
      "Received non-standard message: TMP&U\t 28.09\t 28.03\t 30.44\tINA219\tBus Voltage: 798 --\tShunt Voltage: 1 --\ti: 0 --\t20000101T194856\tTMP&U\t 28.10\t 28.03\t 30.41\tPel\n",
      "Received non-standard message: TMP&U\t 28.10\t 28.03\t 30.41\tINA219\tBus Voltage: 798 --\tShunt Voltage: 1 --\ti: 0 --\t20000101T194857\tTMP&U\t 28.10\t 28.04\t 30.39\tPel\n",
      "Data saved to C:\\Users\\giaco\\Git_Repositories\\Semester_Thesis_1\\Measurements\\20241030_133053_diya06.csv.\n",
      "Received non-standard message: TMP&U\t 28.10\t 28.04\t 30.39\tINA219\tBus Voltage: 798 --\tShunt Voltage: 1 --\ti: 0 --\t20000101T194858\tTMP&U\t 28.11\t 28.05\t 30.39\tPel\n",
      "Communicator stopped\n"
     ]
    }
   ],
   "source": [
    "import datetime\n",
    "\n",
    "x_HP = 0\n",
    "x_FAN = 0\n",
    "\n",
    "continue_loop = True\n",
    "initial_time = datetime.datetime.now()\n",
    "duration = 11 # seconds\n",
    "\n",
    "try:\n",
    "    comm.start()\n",
    "    comm.send_control_input(x_HP, x_FAN)\n",
    "\n",
    "    while continue_loop:\n",
    "        current_time = datetime.datetime.now()\n",
    "        elapsed_time = current_time - initial_time\n",
    "        if elapsed_time.total_seconds() > duration:\n",
    "            continue_loop = False\n",
    "\n",
    "except KeyboardInterrupt:\n",
    "    print(\"Interrupted by user\")\n",
    "\n",
    "finally:\n",
    "    comm.stop()"
   ]
  },
  {
   "cell_type": "code",
   "execution_count": null,
   "metadata": {},
   "outputs": [],
   "source": [
    "comm.stop()"
   ]
  },
  {
   "cell_type": "code",
   "execution_count": null,
   "metadata": {},
   "outputs": [],
   "source": [
    "import paho.mqtt.client as mqtt\n",
    "\n",
    "# Define the MQTT broker details\n",
    "broker = \"mqtt.119.ovh\"\n",
    "port = 1883\n",
    "topic = \"diya06\"\n",
    "read_topic = topic + \"/rx/\"\n",
    "transmit_topic = topic + \"/tx/\"\n",
    "keep_alive = 60\n",
    "\n",
    "last_message = None\n",
    "\n",
    "# Callback function when a message is received\n",
    "def on_message(client, userdata, message):\n",
    "    last_message = message.payload.decode()\n",
    "    # print(f\"Message received: {last_message} on topic {message.topic}\")\n",
    "\n",
    "    parts = last_message.split()\n",
    "    if \"TMP&U\" not in last_message or \"Peltier:\" not in last_message or \"Fan:\" not in last_message:\n",
    "        print(\"Received incomplete message\")\n",
    "        return\n",
    "    \n",
    "    # Parse each component based on its position in the message\n",
    "    timestamp = parts[0]\n",
    "    sensor_label = parts[1]\n",
    "    T_1 = float(parts[2])\n",
    "    T_2 = float(parts[3])\n",
    "    T_3 = float(parts[4])\n",
    "\n",
    "    # Parse the 'Peltier' and 'Fan' values by removing their labels\n",
    "    peltier_value = int(parts[6])\n",
    "    fan_value = int(parts[8])\n",
    "\n",
    "    # Print out parsed values\n",
    "    print(\"Timestamp:\", timestamp)\n",
    "    print(\"Measurements:\", T_1, T_2, T_3)\n",
    "    print(\"Peltier Value:\", peltier_value)\n",
    "    print(\"Fan Value:\", fan_value)\n",
    "    print(\"-------------------------------------------\")\n",
    "\n",
    "def send_control_input(client:mqtt.Client, x_HP:int, x_FAN:int):\n",
    "    sign_HP = \"+\" if x_HP >= 0 else \"-\"\n",
    "\n",
    "    # Bound control values\n",
    "    x_HP = max(min(x_HP, 100), -100)\n",
    "    x_FAN = max(min(x_FAN, 100), 0)\n",
    "\n",
    "    # Format control values\n",
    "    x_HP_formatted = f\"{sign_HP}{abs(int(x_HP)):03d}\"\n",
    "    x_FAN_formatted = f\"{int(x_FAN):03d}\"\n",
    "\n",
    "    message_str = f\"S{x_HP_formatted}{x_FAN_formatted}\"\n",
    "\n",
    "    client.publish(transmit_topic, message_str)\n",
    "    print(f\"Message sent: x_HP = {x_HP}, x_FAN = {x_FAN}\")\n",
    "\n",
    "\n",
    "# Create an MQTT client instance\n",
    "# cself.client = mqtt.Client(api_version=mqtt.CallbackAPIVersion.VERSION2) ##################################3\n",
    "client = mqtt.Client(mqtt.CallbackAPIVersion.VERSION2)\n",
    "\n",
    "# Assign the on_message callback\n",
    "client.on_message = on_message\n",
    "\n",
    "# Connect to the broker\n",
    "client.connect(broker, port, keep_alive)\n",
    "\n",
    "# Subscribe to the specified topic\n",
    "client.subscribe(read_topic)"
   ]
  },
  {
   "cell_type": "code",
   "execution_count": null,
   "metadata": {},
   "outputs": [],
   "source": [
    "x_HP = 0\n",
    "x_FAN = 0\n",
    "\n",
    "send_control_input(client, x_HP, x_FAN)\n",
    "\n",
    "client.loop_start()"
   ]
  },
  {
   "cell_type": "code",
   "execution_count": null,
   "metadata": {},
   "outputs": [],
   "source": [
    "client.loop_stop()"
   ]
  },
  {
   "cell_type": "code",
   "execution_count": null,
   "metadata": {},
   "outputs": [],
   "source": [
    "client.disconnect()"
   ]
  }
 ],
 "metadata": {
  "kernelspec": {
   "display_name": "Python 3",
   "language": "python",
   "name": "python3"
  },
  "language_info": {
   "codemirror_mode": {
    "name": "ipython",
    "version": 3
   },
   "file_extension": ".py",
   "mimetype": "text/x-python",
   "name": "python",
   "nbconvert_exporter": "python",
   "pygments_lexer": "ipython3",
   "version": "3.11.9"
  }
 },
 "nbformat": 4,
 "nbformat_minor": 2
}
