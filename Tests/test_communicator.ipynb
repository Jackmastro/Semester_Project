{
 "cells": [
  {
   "cell_type": "code",
   "execution_count": 1,
   "metadata": {},
   "outputs": [],
   "source": [
    "import sys\n",
    "import os\n",
    "\n",
    "# Add the parent directory to sys.path\n",
    "sys.path.append(os.path.abspath(os.path.join(os.getcwd(), \"..\")))\n",
    "\n",
    "from Classes.Communicator import Communicator\n",
    "\n",
    "diya_name = \"07\"\n",
    "comm = Communicator(diya_name, save_data=False, save_frequency=10, choose_specific_directory=False, verbose=True)"
   ]
  },
  {
   "cell_type": "code",
   "execution_count": 2,
   "metadata": {},
   "outputs": [],
   "source": [
    "from simple_pid import PID\n",
    "import numpy as np\n",
    "from scipy.constants import convert_temperature as conv_temp\n",
    "\n",
    "class PIDController:\n",
    "    def __init__(self, kp:float, ki:float, kd:float, setpoint:float, dt:float, output_limits:tuple) -> None:\n",
    "        # to work, the sample time has to be zero\n",
    "        self.pid = PID(Kp=kp, Ki=ki, Kd=kd, setpoint=setpoint, sample_time=dt, output_limits=output_limits)\n",
    "\n",
    "    def get_control_input(self, current_output:float) -> np.ndarray:\n",
    "        u_HP = self.pid(current_output)\n",
    "        u_FAN = 1.0\n",
    "        return np.array([u_HP, u_FAN])\n",
    "    \n",
    "dt_disc = 0.5 # s\n",
    "kp, ki, kd = -2.5, -4.0, 0.0\n",
    "setpoint = conv_temp(37.0, 'C', 'K') # K\n",
    "output_limits = (-2, 2) # A\n",
    "controller = PIDController(kp, ki, kd, setpoint, dt_disc, output_limits)"
   ]
  },
  {
   "cell_type": "code",
   "execution_count": 3,
   "metadata": {},
   "outputs": [
    {
     "name": "stdout",
     "output_type": "stream",
     "text": [
      "Communicator started\n",
      "Message sent: I_HP = -2.0, x_FAN = 0.0\n",
      "Subscribed to diya07/rx/\n",
      "ricevuto\n",
      "Received non-standard message\n",
      "ricevuto\n",
      "Received non-standard message\n",
      "ricevuto\n",
      "Received non-standard message\n",
      "ricevuto\n",
      "Received non-standard message\n",
      "ricevuto\n",
      "Received non-standard message\n",
      "ricevuto\n",
      "                             T1_C   T2_C   T3_C  x_HP  x_FAN  U_HP_mV  I_HP_mA\n",
      "2024-11-28 15:19:11.656427  16.31  17.82  40.05   586      0   3524.0   1445.0\n",
      "ricevuto\n",
      "                             T1_C   T2_C   T3_C  x_HP  x_FAN  U_HP_mV  I_HP_mA\n",
      "2024-11-28 15:19:12.596293  16.32  17.81  40.04   584      0   3496.0   1427.0\n",
      "ricevuto\n",
      "                             T1_C  T2_C   T3_C  x_HP  x_FAN  U_HP_mV  I_HP_mA\n",
      "2024-11-28 15:19:13.505050  16.32  17.8  40.03   594      0   3560.0   1573.0\n",
      "ricevuto\n",
      "                             T1_C   T2_C   T3_C  x_HP  x_FAN  U_HP_mV  I_HP_mA\n",
      "2024-11-28 15:19:14.488222  16.33  17.82  40.03   583      0   3492.0   1425.0\n",
      "ricevuto\n",
      "                             T1_C   T2_C   T3_C  x_HP  x_FAN  U_HP_mV  I_HP_mA\n",
      "2024-11-28 15:19:15.638234  16.34  17.81  40.04   596      0   3600.0   1618.0\n",
      "ricevuto\n",
      "                             T1_C   T2_C   T3_C  x_HP  x_FAN  U_HP_mV  I_HP_mA\n",
      "2024-11-28 15:19:16.554926  16.35  17.81  40.06   582      0   3488.0   1416.0\n",
      "ricevuto\n",
      "                             T1_C   T2_C   T3_C  x_HP  x_FAN  U_HP_mV  I_HP_mA\n",
      "2024-11-28 15:19:17.467963  16.36  17.81  40.08   590      0   3540.0   1516.0\n",
      "ricevuto\n",
      "                             T1_C   T2_C  T3_C  x_HP  x_FAN  U_HP_mV  I_HP_mA\n",
      "2024-11-28 15:19:18.676522  16.36  17.81  40.1   582      0   3488.0   1432.0\n",
      "ricevuto\n",
      "                             T1_C   T2_C   T3_C  x_HP  x_FAN  U_HP_mV  I_HP_mA\n",
      "2024-11-28 15:19:19.455488  16.37  17.81  40.14   582      0   3476.0   1422.0\n",
      "ricevuto\n",
      "                             T1_C   T2_C   T3_C  x_HP  x_FAN  U_HP_mV  I_HP_mA\n",
      "2024-11-28 15:19:20.474322  16.37  17.81  40.17   588      0   3520.0   1501.0\n",
      "ricevuto\n",
      "                             T1_C   T2_C   T3_C  x_HP  x_FAN  U_HP_mV  I_HP_mA\n",
      "2024-11-28 15:19:21.424397  16.38  17.81  40.21   596      0   3600.0   1636.0\n",
      "Communicator stopped\n"
     ]
    }
   ],
   "source": [
    "import datetime\n",
    "\n",
    "T_amb = conv_temp(25.0, 'C', 'K') # K\n",
    "R4 = 0.5 # K/W\n",
    "R5 = 25.0 # K/W\n",
    "frac = R5/(R4 + R5)\n",
    "\n",
    "# I_HP = 2.5\n",
    "x_FAN = 0.0\n",
    "\n",
    "continue_loop = True\n",
    "initial_time = datetime.datetime.now()\n",
    "duration = 10 # seconds\n",
    "\n",
    "try:\n",
    "    comm.start()\n",
    "    meas_df = comm.last_measurement\n",
    "    Tc = (meas_df[\"T1_C\"][0] + meas_df[\"T1_C\"][0])/2\n",
    "    Tc_K = conv_temp(Tc, 'C', 'K')\n",
    "    Tcell_K = frac*Tc_K + (1 - frac)*T_amb\n",
    "    u = controller.get_control_input(Tcell_K)\n",
    "    comm.send_control_input(u[0], x_FAN)\n",
    "\n",
    "    while continue_loop:\n",
    "        current_time = datetime.datetime.now()\n",
    "        elapsed_time = current_time - initial_time\n",
    "\n",
    "        \n",
    "        if elapsed_time.total_seconds() > duration:\n",
    "            continue_loop = False\n",
    "\n",
    "except KeyboardInterrupt:\n",
    "    print(\"Interrupted by user\")\n",
    "\n",
    "finally:\n",
    "    comm.stop()"
   ]
  },
  {
   "cell_type": "code",
   "execution_count": 16,
   "metadata": {},
   "outputs": [
    {
     "data": {
      "text/plain": [
       "(<MQTTErrorCode.MQTT_ERR_SUCCESS: 0>, 1)"
      ]
     },
     "execution_count": 16,
     "metadata": {},
     "output_type": "execute_result"
    }
   ],
   "source": [
    "import paho.mqtt.client as mqtt\n",
    "\n",
    "# Define the MQTT broker details\n",
    "broker = \"mqtt.119.ovh\"\n",
    "port = 1883\n",
    "topic = \"diya06\"\n",
    "read_topic = topic + \"/rx/\"\n",
    "transmit_topic = topic + \"/tx/\"\n",
    "keep_alive = 60\n",
    "\n",
    "last_message = None\n",
    "\n",
    "# Callback function when a message is received\n",
    "def on_message(client, userdata, message):\n",
    "    last_message = message.payload.decode()\n",
    "    # print(f\"Message received: {last_message} on topic {message.topic}\")\n",
    "\n",
    "    parts = last_message.split()\n",
    "    if \"TMP&U\" not in last_message or \"Peltier:\" not in last_message or \"Fan:\" not in last_message:\n",
    "        print(\"Received incomplete message\")\n",
    "        return\n",
    "    \n",
    "    # Parse each component based on its position in the message\n",
    "    T_1 = float(parts[2])\n",
    "    T_2 = float(parts[3])\n",
    "    T_3 = float(parts[4])\n",
    "\n",
    "    # Parse the 'Peltier' and 'Fan' values by removing their labels\n",
    "    peltier_value = int(parts[6])\n",
    "    fan_value = int(parts[8])\n",
    "\n",
    "    # Print out parsed values\n",
    "    print(\"Measurements:\", T_1, T_2, T_3)\n",
    "    print(\"Peltier Value:\", peltier_value)\n",
    "    print(\"Fan Value:\", fan_value)\n",
    "    print(\"-------------------------------------------\")\n",
    "\n",
    "def send_control_input(client:mqtt.Client, x_HP:int, x_FAN:int):\n",
    "    sign_HP = \"+\" if x_HP >= 0 else \"-\"\n",
    "\n",
    "    # Bound control values\n",
    "    x_HP = max(min(x_HP, 100), -100)\n",
    "    x_FAN = max(min(x_FAN, 100), 0)\n",
    "\n",
    "    # Format control values\n",
    "    x_HP_formatted = f\"{sign_HP}{abs(int(x_HP)):03d}\"\n",
    "    x_FAN_formatted = f\"{int(x_FAN):03d}\"\n",
    "\n",
    "    message_str = f\"S{x_HP_formatted}{x_FAN_formatted}\"\n",
    "\n",
    "    client.publish(transmit_topic, message_str)\n",
    "    print(f\"Message sent: x_HP = {x_HP}, x_FAN = {x_FAN}\")\n",
    "\n",
    "\n",
    "# Create an MQTT client instance\n",
    "# cself.client = mqtt.Client(api_version=mqtt.CallbackAPIVersion.VERSION2) ##################################3\n",
    "client = mqtt.Client(mqtt.CallbackAPIVersion.VERSION2)\n",
    "\n",
    "# Assign the on_message callback\n",
    "client.on_message = on_message\n",
    "\n",
    "# Connect to the broker\n",
    "client.connect(broker, port, keep_alive)\n",
    "\n",
    "# Subscribe to the specified topic\n",
    "client.subscribe(read_topic)"
   ]
  },
  {
   "cell_type": "code",
   "execution_count": 17,
   "metadata": {},
   "outputs": [
    {
     "ename": "KeyboardInterrupt",
     "evalue": "",
     "output_type": "error",
     "traceback": [
      "\u001b[1;31m---------------------------------------------------------------------------\u001b[0m",
      "\u001b[1;31mKeyboardInterrupt\u001b[0m                         Traceback (most recent call last)",
      "Cell \u001b[1;32mIn[17], line 1\u001b[0m\n\u001b[1;32m----> 1\u001b[0m \u001b[43mclient\u001b[49m\u001b[38;5;241;43m.\u001b[39;49m\u001b[43mloop_forever\u001b[49m\u001b[43m(\u001b[49m\u001b[43m)\u001b[49m\n",
      "File \u001b[1;32m~\\AppData\\Local\\Packages\\PythonSoftwareFoundation.Python.3.11_qbz5n2kfra8p0\\LocalCache\\local-packages\\Python311\\site-packages\\paho\\mqtt\\client.py:2297\u001b[0m, in \u001b[0;36mClient.loop_forever\u001b[1;34m(self, timeout, retry_first_connection)\u001b[0m\n\u001b[0;32m   2295\u001b[0m rc \u001b[38;5;241m=\u001b[39m MQTTErrorCode\u001b[38;5;241m.\u001b[39mMQTT_ERR_SUCCESS\n\u001b[0;32m   2296\u001b[0m \u001b[38;5;28;01mwhile\u001b[39;00m rc \u001b[38;5;241m==\u001b[39m MQTTErrorCode\u001b[38;5;241m.\u001b[39mMQTT_ERR_SUCCESS:\n\u001b[1;32m-> 2297\u001b[0m     rc \u001b[38;5;241m=\u001b[39m \u001b[38;5;28;43mself\u001b[39;49m\u001b[38;5;241;43m.\u001b[39;49m\u001b[43m_loop\u001b[49m\u001b[43m(\u001b[49m\u001b[43mtimeout\u001b[49m\u001b[43m)\u001b[49m\n\u001b[0;32m   2298\u001b[0m     \u001b[38;5;66;03m# We don't need to worry about locking here, because we've\u001b[39;00m\n\u001b[0;32m   2299\u001b[0m     \u001b[38;5;66;03m# either called loop_forever() when in single threaded mode, or\u001b[39;00m\n\u001b[0;32m   2300\u001b[0m     \u001b[38;5;66;03m# in multi threaded mode when loop_stop() has been called and\u001b[39;00m\n\u001b[0;32m   2301\u001b[0m     \u001b[38;5;66;03m# so no other threads can access _out_packet or _messages.\u001b[39;00m\n\u001b[0;32m   2302\u001b[0m     \u001b[38;5;28;01mif\u001b[39;00m (\u001b[38;5;28mself\u001b[39m\u001b[38;5;241m.\u001b[39m_thread_terminate \u001b[38;5;129;01mis\u001b[39;00m \u001b[38;5;28;01mTrue\u001b[39;00m\n\u001b[0;32m   2303\u001b[0m         \u001b[38;5;129;01mand\u001b[39;00m \u001b[38;5;28mlen\u001b[39m(\u001b[38;5;28mself\u001b[39m\u001b[38;5;241m.\u001b[39m_out_packet) \u001b[38;5;241m==\u001b[39m \u001b[38;5;241m0\u001b[39m\n\u001b[0;32m   2304\u001b[0m             \u001b[38;5;129;01mand\u001b[39;00m \u001b[38;5;28mlen\u001b[39m(\u001b[38;5;28mself\u001b[39m\u001b[38;5;241m.\u001b[39m_out_messages) \u001b[38;5;241m==\u001b[39m \u001b[38;5;241m0\u001b[39m):\n",
      "File \u001b[1;32m~\\AppData\\Local\\Packages\\PythonSoftwareFoundation.Python.3.11_qbz5n2kfra8p0\\LocalCache\\local-packages\\Python311\\site-packages\\paho\\mqtt\\client.py:1663\u001b[0m, in \u001b[0;36mClient._loop\u001b[1;34m(self, timeout)\u001b[0m\n\u001b[0;32m   1660\u001b[0m     rlist \u001b[38;5;241m=\u001b[39m [\u001b[38;5;28mself\u001b[39m\u001b[38;5;241m.\u001b[39m_sock, \u001b[38;5;28mself\u001b[39m\u001b[38;5;241m.\u001b[39m_sockpairR]\n\u001b[0;32m   1662\u001b[0m \u001b[38;5;28;01mtry\u001b[39;00m:\n\u001b[1;32m-> 1663\u001b[0m     socklist \u001b[38;5;241m=\u001b[39m select\u001b[38;5;241m.\u001b[39mselect(rlist, wlist, [], timeout)\n\u001b[0;32m   1664\u001b[0m \u001b[38;5;28;01mexcept\u001b[39;00m \u001b[38;5;167;01mTypeError\u001b[39;00m:\n\u001b[0;32m   1665\u001b[0m     \u001b[38;5;66;03m# Socket isn't correct type, in likelihood connection is lost\u001b[39;00m\n\u001b[0;32m   1666\u001b[0m     \u001b[38;5;66;03m# ... or we called disconnect(). In that case the socket will\u001b[39;00m\n\u001b[1;32m   (...)\u001b[0m\n\u001b[0;32m   1669\u001b[0m     \u001b[38;5;66;03m# rc != MQTT_ERR_SUCCESS and we don't want state to change from\u001b[39;00m\n\u001b[0;32m   1670\u001b[0m     \u001b[38;5;66;03m# mqtt_cs_disconnecting.\u001b[39;00m\n\u001b[0;32m   1671\u001b[0m     \u001b[38;5;28;01mif\u001b[39;00m \u001b[38;5;28mself\u001b[39m\u001b[38;5;241m.\u001b[39m_state \u001b[38;5;129;01mnot\u001b[39;00m \u001b[38;5;129;01min\u001b[39;00m (_ConnectionState\u001b[38;5;241m.\u001b[39mMQTT_CS_DISCONNECTING, _ConnectionState\u001b[38;5;241m.\u001b[39mMQTT_CS_DISCONNECTED):\n",
      "\u001b[1;31mKeyboardInterrupt\u001b[0m: "
     ]
    }
   ],
   "source": [
    "client.loop_forever()"
   ]
  },
  {
   "cell_type": "code",
   "execution_count": null,
   "metadata": {},
   "outputs": [
    {
     "name": "stdout",
     "output_type": "stream",
     "text": [
      "Message sent: x_HP = 0, x_FAN = 0\n"
     ]
    },
    {
     "data": {
      "text/plain": [
       "<MQTTErrorCode.MQTT_ERR_SUCCESS: 0>"
      ]
     },
     "execution_count": 4,
     "metadata": {},
     "output_type": "execute_result"
    }
   ],
   "source": [
    "I_HP = 0\n",
    "x_FAN = 0\n",
    "\n",
    "send_control_input(client, I_HP, x_FAN)\n",
    "\n",
    "client.loop_start()"
   ]
  },
  {
   "cell_type": "code",
   "execution_count": null,
   "metadata": {},
   "outputs": [],
   "source": [
    "client.loop_stop()"
   ]
  },
  {
   "cell_type": "code",
   "execution_count": null,
   "metadata": {},
   "outputs": [],
   "source": [
    "client.disconnect()"
   ]
  }
 ],
 "metadata": {
  "kernelspec": {
   "display_name": "Python 3",
   "language": "python",
   "name": "python3"
  },
  "language_info": {
   "codemirror_mode": {
    "name": "ipython",
    "version": 3
   },
   "file_extension": ".py",
   "mimetype": "text/x-python",
   "name": "python",
   "nbconvert_exporter": "python",
   "pygments_lexer": "ipython3",
   "version": "3.11.9"
  }
 },
 "nbformat": 4,
 "nbformat_minor": 2
}
