{
 "cells": [
  {
   "cell_type": "code",
   "execution_count": 1,
   "metadata": {},
   "outputs": [],
   "source": [
    "import sys\n",
    "import os\n",
    "\n",
    "# Add the parent directory to sys.path\n",
    "sys.path.append(os.path.abspath(os.path.join(os.getcwd(), \"..\")))\n",
    "\n",
    "from Classes.Communicator import Communicator\n",
    "\n",
    "diya_name = \"06\"\n",
    "comm = Communicator(diya_name, save_data=True, save_frequency=10, choose_specific_directory=False, verbose=True)"
   ]
  },
  {
   "cell_type": "code",
   "execution_count": 2,
   "metadata": {},
   "outputs": [
    {
     "name": "stdout",
     "output_type": "stream",
     "text": [
      "Communicator startedSubscribed to diya06/rx/\n",
      "\n",
      "Message sent: x_HP = 100, x_FAN = 0\n",
      "Interrupted by user\n",
      "Data saved to C:\\Users\\giaco\\Git_Repositories\\Semester_Thesis_1\\Measurements\\20241030_144052_diya06.csv.\n",
      "Communicator stopped\n"
     ]
    }
   ],
   "source": [
    "import datetime\n",
    "\n",
    "x_HP = 100\n",
    "x_FAN = 0\n",
    "\n",
    "continue_loop = True\n",
    "initial_time = datetime.datetime.now()\n",
    "duration = 60 # seconds\n",
    "\n",
    "try:\n",
    "    comm.start()\n",
    "    comm.send_control_input(x_HP, x_FAN)\n",
    "\n",
    "    while continue_loop:\n",
    "        current_time = datetime.datetime.now()\n",
    "        elapsed_time = current_time - initial_time\n",
    "        if elapsed_time.total_seconds() > duration:\n",
    "            continue_loop = False\n",
    "\n",
    "except KeyboardInterrupt:\n",
    "    print(\"Interrupted by user\")\n",
    "\n",
    "finally:\n",
    "    comm.stop()"
   ]
  },
  {
   "cell_type": "code",
   "execution_count": null,
   "metadata": {},
   "outputs": [],
   "source": [
    "import paho.mqtt.client as mqtt\n",
    "\n",
    "# Define the MQTT broker details\n",
    "broker = \"mqtt.119.ovh\"\n",
    "port = 1883\n",
    "topic = \"diya06\"\n",
    "read_topic = topic + \"/rx/\"\n",
    "transmit_topic = topic + \"/tx/\"\n",
    "keep_alive = 60\n",
    "\n",
    "last_message = None\n",
    "\n",
    "# Callback function when a message is received\n",
    "def on_message(client, userdata, message):\n",
    "    last_message = message.payload.decode()\n",
    "    # print(f\"Message received: {last_message} on topic {message.topic}\")\n",
    "\n",
    "    parts = last_message.split()\n",
    "    if \"TMP&U\" not in last_message or \"Peltier:\" not in last_message or \"Fan:\" not in last_message:\n",
    "        print(\"Received incomplete message\")\n",
    "        return\n",
    "    \n",
    "    # Parse each component based on its position in the message\n",
    "    T_1 = float(parts[2])\n",
    "    T_2 = float(parts[3])\n",
    "    T_3 = float(parts[4])\n",
    "\n",
    "    # Parse the 'Peltier' and 'Fan' values by removing their labels\n",
    "    peltier_value = int(parts[6])\n",
    "    fan_value = int(parts[8])\n",
    "\n",
    "    # Print out parsed values\n",
    "    print(\"Measurements:\", T_1, T_2, T_3)\n",
    "    print(\"Peltier Value:\", peltier_value)\n",
    "    print(\"Fan Value:\", fan_value)\n",
    "    print(\"-------------------------------------------\")\n",
    "\n",
    "def send_control_input(client:mqtt.Client, x_HP:int, x_FAN:int):\n",
    "    sign_HP = \"+\" if x_HP >= 0 else \"-\"\n",
    "\n",
    "    # Bound control values\n",
    "    x_HP = max(min(x_HP, 100), -100)\n",
    "    x_FAN = max(min(x_FAN, 100), 0)\n",
    "\n",
    "    # Format control values\n",
    "    x_HP_formatted = f\"{sign_HP}{abs(int(x_HP)):03d}\"\n",
    "    x_FAN_formatted = f\"{int(x_FAN):03d}\"\n",
    "\n",
    "    message_str = f\"S{x_HP_formatted}{x_FAN_formatted}\"\n",
    "\n",
    "    client.publish(transmit_topic, message_str)\n",
    "    print(f\"Message sent: x_HP = {x_HP}, x_FAN = {x_FAN}\")\n",
    "\n",
    "\n",
    "# Create an MQTT client instance\n",
    "# cself.client = mqtt.Client(api_version=mqtt.CallbackAPIVersion.VERSION2) ##################################3\n",
    "client = mqtt.Client(mqtt.CallbackAPIVersion.VERSION2)\n",
    "\n",
    "# Assign the on_message callback\n",
    "client.on_message = on_message\n",
    "\n",
    "# Connect to the broker\n",
    "client.connect(broker, port, keep_alive)\n",
    "\n",
    "# Subscribe to the specified topic\n",
    "client.subscribe(read_topic)"
   ]
  },
  {
   "cell_type": "code",
   "execution_count": null,
   "metadata": {},
   "outputs": [],
   "source": [
    "x_HP = 0\n",
    "x_FAN = 0\n",
    "\n",
    "send_control_input(client, x_HP, x_FAN)\n",
    "\n",
    "client.loop_start()"
   ]
  },
  {
   "cell_type": "code",
   "execution_count": null,
   "metadata": {},
   "outputs": [],
   "source": [
    "client.loop_stop()"
   ]
  },
  {
   "cell_type": "code",
   "execution_count": null,
   "metadata": {},
   "outputs": [],
   "source": [
    "client.disconnect()"
   ]
  }
 ],
 "metadata": {
  "kernelspec": {
   "display_name": "Python 3",
   "language": "python",
   "name": "python3"
  },
  "language_info": {
   "codemirror_mode": {
    "name": "ipython",
    "version": 3
   },
   "file_extension": ".py",
   "mimetype": "text/x-python",
   "name": "python",
   "nbconvert_exporter": "python",
   "pygments_lexer": "ipython3",
   "version": "3.11.9"
  }
 },
 "nbformat": 4,
 "nbformat_minor": 2
}
