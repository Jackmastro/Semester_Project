{
 "cells": [
  {
   "cell_type": "code",
   "execution_count": 72,
   "metadata": {},
   "outputs": [],
   "source": [
    "import pandas as pd\n",
    "import matplotlib.pyplot as plt\n",
    "import paho.mqtt.client as mqtt\n",
    "import time\n",
    "# Define the MQTT broker details\n",
    "broker = \"mqtt.119.ovh\"\n",
    "port = 1883\n",
    "topic = \"diya06\"\n",
    "read_topic = topic + \"/rx/\"\n",
    "transmit_topic = topic + \"/tx/\"\n",
    "keep_alive = 60\n",
    "\n",
    "last_message = None\n",
    "\n",
    "# Callback function when a message is received\n",
    "def on_message(client, userdata, message):\n",
    "    last_message = message.payload.decode()\n",
    "    print(f\"Message received: {last_message} on topic {message.topic}\")\n",
    "\n",
    "    print(type(last_message))\n",
    "    parts = last_message.split()\n",
    "    if len(parts) < 9:\n",
    "            print(\"Received incomplete message\")\n",
    "            return\n",
    "    print(type(parts))\n",
    "    print(parts)\n",
    "\n",
    "    # Parse each component based on its position in the message\n",
    "    timestamp = parts[0]\n",
    "    sensor_label = parts[1]\n",
    "    T_1 = float(parts[2])\n",
    "    T_2 = float(parts[3])\n",
    "    T_3 = float(parts[4])\n",
    "\n",
    "    # Parse the 'Peltier' and 'Fan' values by removing their labels\n",
    "    peltier_value = int(parts[6])\n",
    "    fan_value = int(parts[8])\n",
    "\n",
    "    # Print out parsed values\n",
    "    print(\"Timestamp:\", timestamp)\n",
    "    print(\"Measurements:\", T_1, T_2, T_3)\n",
    "    print(\"Peltier Value:\", peltier_value)\n",
    "    print(\"Fan Value:\", fan_value)\n",
    "\n",
    "def send_control_input(client:mqtt.Client, x_HP:int, x_FAN:int):\n",
    "    sign_HP = \"+\" if x_HP >= 0 else \"-\"\n",
    "\n",
    "    # Bound control values\n",
    "    x_HP = max(min(x_HP, 100), -100)\n",
    "    x_FAN = max(min(x_FAN, 100), 0)\n",
    "\n",
    "    # Format control values\n",
    "    x_HP_formatted = f\"{sign_HP}{abs(int(x_HP)):03d}\"\n",
    "    x_FAN_formatted = f\"{int(x_FAN):03d}\"\n",
    "\n",
    "    message_str = f\"S{x_HP_formatted}{x_FAN_formatted}\"\n",
    "\n",
    "    client.publish(transmit_topic, message_str)\n",
    "    print(f\"Message sent: x_HP = {x_HP}, x_FAN = {x_FAN}\")\n",
    "\n",
    "\n",
    "# Create an MQTT client instance\n",
    "# client = mqtt.Client()\n",
    "client = mqtt.Client(mqtt.CallbackAPIVersion.VERSION2)\n",
    "\n",
    "# Assign the on_message callback\n",
    "client.on_message = on_message\n",
    "\n",
    "# Connect to the broker\n",
    "client.connect(broker, port, keep_alive)\n",
    "\n",
    "# Subscribe to the specified topic\n",
    "client.subscribe(read_topic)"
   ]
  },
  {
   "cell_type": "code",
   "execution_count": 75,
   "metadata": {},
   "outputs": [
    {
     "name": "stdout",
     "output_type": "stream",
     "text": [
      "Message sent: x_HP = 0, x_FAN = 0\n"
     ]
    },
    {
     "data": {
      "text/plain": [
       "<MQTTErrorCode.MQTT_ERR_SUCCESS: 0>"
      ]
     },
     "execution_count": 75,
     "metadata": {},
     "output_type": "execute_result"
    },
    {
     "name": "stdout",
     "output_type": "stream",
     "text": [
      "Message received: 20000102T161345\tTMP&U\t 26.26\t 26.85\t 34.63\tPeltier: 100\tFan: 0\t on topic diya06/rx/\n",
      "<class 'str'>\n",
      "<class 'list'>\n",
      "['20000102T161345', 'TMP&U', '26.26', '26.85', '34.63', 'Peltier:', '100', 'Fan:', '0']\n",
      "Timestamp: 20000102T161345\n",
      "Measurements: 26.26 26.85 34.63\n",
      "Peltier Value: 100\n",
      "Fan Value: 0\n",
      "Message received: 20000102T161346\tTMP&U\t 26.27\t 26.85\t 34.68\tPeltier: 100\tFan: 0\t on topic diya06/rx/\n",
      "<class 'str'>\n",
      "<class 'list'>\n",
      "['20000102T161346', 'TMP&U', '26.27', '26.85', '34.68', 'Peltier:', '100', 'Fan:', '0']\n",
      "Timestamp: 20000102T161346\n",
      "Measurements: 26.27 26.85 34.68\n",
      "Peltier Value: 100\n",
      "Fan Value: 0\n"
     ]
    },
    {
     "name": "stdout",
     "output_type": "stream",
     "text": [
      "Message received: State:\t1 on topic diya06/rx/\n",
      "<class 'str'>\n",
      "Received incomplete message\n",
      "Message received: rxBuffer:\tS+000000 on topic diya06/rx/\n",
      "<class 'str'>\n",
      "Received incomplete message\n",
      "Message received: Setting thermal actuators on topic diya06/rx/\n",
      "<class 'str'>\n",
      "Received incomplete message\n",
      "Message received: Read 0\t0 on topic diya06/rx/\n",
      "<class 'str'>\n",
      "Received incomplete message\n",
      "Message received: Set\tPeltier=0\tFan=0 on topic diya06/rx/\n",
      "<class 'str'>\n",
      "Received incomplete message\n",
      "Message received: 20000102T161347\tTMP&U\t 26.28\t 26.85\t 34.74\tPeltier: 0\tFan: 0\t on topic diya06/rx/\n",
      "<class 'str'>\n",
      "<class 'list'>\n",
      "['20000102T161347', 'TMP&U', '26.28', '26.85', '34.74', 'Peltier:', '0', 'Fan:', '0']\n",
      "Timestamp: 20000102T161347\n",
      "Measurements: 26.28 26.85 34.74\n",
      "Peltier Value: 0\n",
      "Fan Value: 0\n",
      "Message received: State:\t-1 on topic diya06/rx/\n",
      "<class 'str'>\n",
      "Received incomplete message\n",
      "Message received: rxBuffer:\tS+000000 on topic diya06/rx/\n",
      "<class 'str'>\n",
      "Received incomplete message\n",
      "Message received: 20000102T161348\tTMP&U\t 26.28\t 26.85\t 34.79\tPeltier: 0\tFan: 0\t on topic diya06/rx/\n",
      "<class 'str'>\n",
      "<class 'list'>\n",
      "['20000102T161348', 'TMP&U', '26.28', '26.85', '34.79', 'Peltier:', '0', 'Fan:', '0']\n",
      "Timestamp: 20000102T161348\n",
      "Measurements: 26.28 26.85 34.79\n",
      "Peltier Value: 0\n",
      "Fan Value: 0\n",
      "Message received: 20000102T161349\tTMP&U\t 26.35\t 26.86\t 34.82\tPeltier: 0\tFan: 0\t on topic diya06/rx/\n",
      "<class 'str'>\n",
      "<class 'list'>\n",
      "['20000102T161349', 'TMP&U', '26.35', '26.86', '34.82', 'Peltier:', '0', 'Fan:', '0']\n",
      "Timestamp: 20000102T161349\n",
      "Measurements: 26.35 26.86 34.82\n",
      "Peltier Value: 0\n",
      "Fan Value: 0\n",
      "Message received: 20000102T161350\tTMP&U\t 26.53\t 26.86\t 34.84\tPeltier: 0\tFan: 0\t on topic diya06/rx/\n",
      "<class 'str'>\n",
      "<class 'list'>\n",
      "['20000102T161350', 'TMP&U', '26.53', '26.86', '34.84', 'Peltier:', '0', 'Fan:', '0']\n",
      "Timestamp: 20000102T161350\n",
      "Measurements: 26.53 26.86 34.84\n",
      "Peltier Value: 0\n",
      "Fan Value: 0\n",
      "Message received: 20000102T161351\tTMP&U\t 26.75\t 26.86\t 34.79\tPeltier: 0\tFan: 0\t on topic diya06/rx/\n",
      "<class 'str'>\n",
      "<class 'list'>\n",
      "['20000102T161351', 'TMP&U', '26.75', '26.86', '34.79', 'Peltier:', '0', 'Fan:', '0']\n",
      "Timestamp: 20000102T161351\n",
      "Measurements: 26.75 26.86 34.79\n",
      "Peltier Value: 0\n",
      "Fan Value: 0\n",
      "Message received: 20000102T161352\tTMP&U\t 26.96\t 26.86\t 34.79\tPeltier: 0\tFan: 0\t on topic diya06/rx/\n",
      "<class 'str'>\n",
      "<class 'list'>\n",
      "['20000102T161352', 'TMP&U', '26.96', '26.86', '34.79', 'Peltier:', '0', 'Fan:', '0']\n",
      "Timestamp: 20000102T161352\n",
      "Measurements: 26.96 26.86 34.79\n",
      "Peltier Value: 0\n",
      "Fan Value: 0\n",
      "Message received: State:\t1 on topic diya06/rx/\n",
      "<class 'str'>\n",
      "Received incomplete message\n",
      "Message received: rxBuffer:\tS+000000 on topic diya06/rx/\n",
      "<class 'str'>\n",
      "Received incomplete message\n",
      "Message received: Setting thermal actuators on topic diya06/rx/\n",
      "<class 'str'>\n",
      "Received incomplete message\n",
      "Message received: Read 0\t0 on topic diya06/rx/\n",
      "<class 'str'>\n",
      "Received incomplete message\n",
      "Message received: Set\tPeltier=0\tFan=0 on topic diya06/rx/\n",
      "<class 'str'>\n",
      "Received incomplete message\n",
      "Message received: State:\t-1 on topic diya06/rx/\n",
      "<class 'str'>\n",
      "Received incomplete message\n",
      "Message received: rxBuffer:\tS+000000 on topic diya06/rx/\n",
      "<class 'str'>\n",
      "Received incomplete message\n",
      "Message received: 20000102T161353\tTMP&U\t 27.13\t 26.88\t 34.75\tPeltier: 0\tFan: 0\t on topic diya06/rx/\n",
      "<class 'str'>\n",
      "<class 'list'>\n",
      "['20000102T161353', 'TMP&U', '27.13', '26.88', '34.75', 'Peltier:', '0', 'Fan:', '0']\n",
      "Timestamp: 20000102T161353\n",
      "Measurements: 27.13 26.88 34.75\n",
      "Peltier Value: 0\n",
      "Fan Value: 0\n",
      "Message received: 20000102T161354\tTMP&U\t 27.26\t 26.89\t 34.66\tPeltier: 0\tFan: 0\t on topic diya06/rx/\n",
      "<class 'str'>\n",
      "<class 'list'>\n",
      "['20000102T161354', 'TMP&U', '27.26', '26.89', '34.66', 'Peltier:', '0', 'Fan:', '0']\n",
      "Timestamp: 20000102T161354\n",
      "Measurements: 27.26 26.89 34.66\n",
      "Peltier Value: 0\n",
      "Fan Value: 0\n"
     ]
    }
   ],
   "source": [
    "x_HP = 0\n",
    "x_FAN = 0\n",
    "\n",
    "send_control_input(client, x_HP, x_FAN)\n",
    "\n",
    "try:\n",
    "    client.loop_start()\n",
    "\n",
    "except KeyboardInterrupt:\n",
    "    client.loop_stop()\n",
    "    client.disconnect()"
   ]
  },
  {
   "cell_type": "code",
   "execution_count": 77,
   "metadata": {},
   "outputs": [
    {
     "data": {
      "text/plain": [
       "<MQTTErrorCode.MQTT_ERR_SUCCESS: 0>"
      ]
     },
     "execution_count": 77,
     "metadata": {},
     "output_type": "execute_result"
    }
   ],
   "source": [
    "client.loop_stop()\n"
   ]
  },
  {
   "cell_type": "code",
   "execution_count": 31,
   "metadata": {},
   "outputs": [
    {
     "data": {
      "text/plain": [
       "<MQTTErrorCode.MQTT_ERR_SUCCESS: 0>"
      ]
     },
     "execution_count": 31,
     "metadata": {},
     "output_type": "execute_result"
    }
   ],
   "source": [
    "client.disconnect()"
   ]
  }
 ],
 "metadata": {
  "kernelspec": {
   "display_name": "Python 3",
   "language": "python",
   "name": "python3"
  },
  "language_info": {
   "codemirror_mode": {
    "name": "ipython",
    "version": 3
   },
   "file_extension": ".py",
   "mimetype": "text/x-python",
   "name": "python",
   "nbconvert_exporter": "python",
   "pygments_lexer": "ipython3",
   "version": "3.11.9"
  }
 },
 "nbformat": 4,
 "nbformat_minor": 2
}
