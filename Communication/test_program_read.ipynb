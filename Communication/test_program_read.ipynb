{
 "cells": [
  {
   "cell_type": "code",
   "execution_count": 2,
   "metadata": {},
   "outputs": [],
   "source": [
    "import pandas as pd\n",
    "import numpy as np"
   ]
  },
  {
   "cell_type": "code",
   "execution_count": 11,
   "metadata": {},
   "outputs": [],
   "source": [
    "# Assuming all LEDs use the same current\n",
    "I_LED = 0.02 # mA\n",
    "U_sys = 4.2 # V"
   ]
  },
  {
   "cell_type": "code",
   "execution_count": 10,
   "metadata": {},
   "outputs": [],
   "source": [
    "# TODO check the order of the indices from the Program\n",
    "indices                 = ['UV', 'Red', 'Blue', 'Green', 'Purple', 'Orange', 'IR']\n",
    "specific_radiant_power = np.array([6.0, 4.0, 5.0, 4.5, 5.5, 4.0, 3.0]) # mW/cm^2\n",
    "\n",
    "# Single hole\n",
    "diameter = 7 # mm\n",
    "cross_section = np.pi * (diameter/10/2)**2 # cm^2\n",
    "radiant_power = cross_section * specific_radiant_power / 1000 # W\n",
    "\n",
    "radiant_power_df = pd.DataFrame(radiant_power, index=indices, columns=['Radiant Power (W)'])"
   ]
  },
  {
   "cell_type": "code",
   "execution_count": 12,
   "metadata": {},
   "outputs": [],
   "source": [
    "num_colors = 7\n",
    "plate_row = 8\n",
    "plate_col = 12\n",
    "\n",
    "# Populate the matrix with random values from 0 to 2^16-1\n",
    "M = np.random.randint(0, 2**16-1, (num_colors, plate_row, plate_col))\n",
    "\n",
    "# Scale the matrix to the range of 0 to 1\n",
    "M = M / (2**16-1)"
   ]
  },
  {
   "cell_type": "code",
   "execution_count": null,
   "metadata": {},
   "outputs": [],
   "source": []
  }
 ],
 "metadata": {
  "kernelspec": {
   "display_name": "Python 3",
   "language": "python",
   "name": "python3"
  },
  "language_info": {
   "codemirror_mode": {
    "name": "ipython",
    "version": 3
   },
   "file_extension": ".py",
   "mimetype": "text/x-python",
   "name": "python",
   "nbconvert_exporter": "python",
   "pygments_lexer": "ipython3",
   "version": "3.11.9"
  }
 },
 "nbformat": 4,
 "nbformat_minor": 2
}
