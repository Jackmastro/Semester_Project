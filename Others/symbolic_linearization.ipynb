{
 "cells": [
  {
   "cell_type": "code",
   "execution_count": 3,
   "metadata": {},
   "outputs": [
    {
     "data": {
      "text/latex": [
       "$\\displaystyle \\left[\\begin{matrix}\\frac{- K_{M} - \\frac{1}{R_{eq}}}{cp_{h} m_{h}} & \\frac{I_{HP} S_{M} + K_{M}}{cp_{h} m_{h}} & 0\\\\\\frac{K_{M}}{cp_{c} m_{c}} & \\frac{- I_{HP} S_{M} - K_{M} - \\frac{1}{R_{3 \\lambda}}}{cp_{c} m_{c}} & 0\\\\0 & 0 & 0\\end{matrix}\\right]$"
      ],
      "text/plain": [
       "Matrix([\n",
       "[(-K_M - 1/R_eq)/(cp_h*m_h),                (I_HP*S_M + K_M)/(cp_h*m_h), 0],\n",
       "[            K_M/(cp_c*m_c), (-I_HP*S_M - K_M - 1/R3_lambda)/(cp_c*m_c), 0],\n",
       "[                         0,                                          0, 0]])"
      ]
     },
     "execution_count": 3,
     "metadata": {},
     "output_type": "execute_result"
    }
   ],
   "source": [
    "import sympy as sp\n",
    "\n",
    "# Define symbolic variables for states\n",
    "T_h, T_c, x_SoC = sp.symbols('T_h T_c x_SoC')   # State variables\n",
    "I_HP, I_FAN, I_LED = sp.symbols('I_HP I_FAN I_LED')  # Input variables\n",
    "\n",
    "# Define system parameters symbolically\n",
    "m_h, cp_h, m_c, cp_c, SM, Rin, R_M, K_M, U_oc, R_eq, T_inf = sp.symbols('m_h cp_h m_c cp_c S_M R_in R_M K_M U_oc R_eq T_inf')\n",
    "T_LED, R3_lambda, Q_BT_max, P_rest, U_FAN, x_FAN, x_LED = sp.symbols('T_LED R3_lambda Q_BT_max P_rest U_FAN x_FAN x_LED')\n",
    "\n",
    "# Define the three nonlinear differential equations\n",
    "dTh_dt = (1 / (m_h * cp_h)) * (SM * I_HP * T_c - (Rin + 0.5 * R_M) * I_HP**2 - K_M * T_h + K_M * T_c + U_oc * I_HP - Rin * (I_FAN + I_LED) * I_HP + T_inf / R_eq - T_h / R_eq)\n",
    "dTc_dt = (1 / (m_c * cp_c)) * (T_LED / R3_lambda - (1 / R3_lambda + K_M) * T_c - SM * I_HP * T_c + 0.5 * R_M * I_HP**2 + K_M * T_h)\n",
    "dxSoC_dt = (-1 / (2 * Q_BT_max * Rin)) * (U_oc - sp.sqrt(U_oc**2 - 4 * Rin * (P_rest + I_FAN * U_FAN * x_FAN - Rin * I_HP**2 + I_LED * x_LED * U_oc + I_HP * U_oc - Rin * (I_FAN + I_LED) * I_LED * x_LED - Rin * (I_FAN + I_LED) * I_HP)))\n",
    "\n",
    "# Define state and input vectors\n",
    "x = sp.Matrix([T_h, T_c, x_SoC])\n",
    "u = sp.Matrix([I_HP, I_FAN, I_LED])\n",
    "\n",
    "# Define the system of differential equations as a matrix\n",
    "f = sp.Matrix([dTh_dt, dTc_dt, dxSoC_dt])\n",
    "\n",
    "# Compute Jacobians for A and B matrices\n",
    "A = f.jacobian(x)\n",
    "B = f.jacobian(u)\n",
    "\n",
    "# Substitute equilibrium point values (example values, replace with actual equilibrium values)\n",
    "equilibrium_point = {T_h: 0, T_c: 0, x_SoC: 0, I_HP: 0, I_FAN: 0, I_LED: 0, T_inf: 0}\n",
    "\n",
    "# Evaluate A and B matrices at equilibrium point\n",
    "A_eq = A.subs(equilibrium_point)\n",
    "B_eq = B.subs(equilibrium_point)\n",
    "\n",
    "# Display results\n",
    "A\n"
   ]
  }
 ],
 "metadata": {
  "kernelspec": {
   "display_name": "Python 3",
   "language": "python",
   "name": "python3"
  },
  "language_info": {
   "codemirror_mode": {
    "name": "ipython",
    "version": 3
   },
   "file_extension": ".py",
   "mimetype": "text/x-python",
   "name": "python",
   "nbconvert_exporter": "python",
   "pygments_lexer": "ipython3",
   "version": "3.11.9"
  }
 },
 "nbformat": 4,
 "nbformat_minor": 2
}
