{
 "cells": [
  {
   "cell_type": "code",
   "execution_count": 16,
   "metadata": {},
   "outputs": [],
   "source": [
    "import sympy as sp"
   ]
  },
  {
   "cell_type": "code",
   "execution_count": 17,
   "metadata": {},
   "outputs": [],
   "source": [
    "# State variables\n",
    "x_SoC, T_c, T_h = sp.symbols('x_SoC, T_c, T_h')\n",
    "\n",
    "# Input variables\n",
    "I_HP, x_FAN = sp.symbols('I_HP, x_FAN')\n",
    "\n",
    "# Battery parameters\n",
    "Q_max, R_in, P_rest = sp.symbols('Q_max, R_in, P_rest')\n",
    "a3, a2, a1, a0 = sp.symbols('a3, a2, a1, a0')\n",
    "U_oc = a3 * x_SoC**3 + a2 * x_SoC**2 + a1 * x_SoC + a0\n",
    "\n",
    "# Fan parameters\n",
    "U_FAN, I_FAN = sp.symbols('U_FAN, I_FAN')\n",
    "\n",
    "# LED parameters\n",
    "I_LED, x_LED, T_LED = sp.symbols('I_LED, x_LED, T_LED')\n",
    "\n",
    "# Peltier module parameters\n",
    "S_M, R_M, K_M, x_HP = sp.symbols('S_M, R_M, K_M, x_HP')\n",
    "\n",
    "# Thermal parameters\n",
    "m_h, c_p, m_c, R_eq, R3_lambda, T_amb = sp.symbols('m_h, c_p, m_c, R_eq, R3_lambda, T_amb') # TODO change R_eq to its expression\n",
    "\n",
    "# Define the three nonlinear differential equations\n",
    "dTh_dt = (1 / (m_h * c_p)) * (S_M * I_HP * T_c - (R_in + 0.5 * R_M) * I_HP**2 - K_M * T_h + K_M * T_c + U_oc * I_HP - R_in * (I_FAN + I_LED) * I_HP + T_amb / R_eq - T_h / R_eq)\n",
    "dTc_dt = (1 / (m_c * c_p)) * (T_LED / R3_lambda - (1 / R3_lambda + K_M) * T_c - S_M * I_HP * T_c + 0.5 * R_M * I_HP**2 + K_M * T_h)\n",
    "dxSoC_dt = (U_oc + R_in * x_HP * I_HP + R_in * I_LED * x_LED - sp.sqrt(U_oc**2 - 2 * R_in * I_LED * x_LED * U_oc - 2 * R_in * x_HP * U_oc * I_HP + (R_in * x_HP)**2 * I_HP**2 + 2 * R_in * I_LED * x_LED * R_in * x_HP * I_HP - 4 * R_in * I_FAN * U_FAN * x_FAN - 4 * R_in * P_rest + (R_in * I_LED * x_LED)**2)) / (-2 * Q_max * R_in)\n",
    "\n",
    "# Define state and input vectors\n",
    "x = sp.Matrix([x_SoC, T_c, T_h])\n",
    "u = sp.Matrix([I_HP, x_FAN])\n",
    "\n",
    "# Define the system of differential equations as a matrix\n",
    "f = sp.Matrix([dxSoC_dt, dTc_dt, dTh_dt])\n",
    "\n",
    "# Compute Jacobians for A and B matrices\n",
    "A = f.jacobian(x)\n",
    "B = f.jacobian(u)"
   ]
  },
  {
   "cell_type": "code",
   "execution_count": 18,
   "metadata": {},
   "outputs": [],
   "source": [
    "# # Simplified version\n",
    "# # Define state and input vectors\n",
    "# x = sp.Matrix([T_c, T_h])\n",
    "# u = sp.Matrix([I_HP])\n",
    "\n",
    "# # Define the system of differential equations as a matrix\n",
    "# f = sp.Matrix([dTc_dt, dTh_dt])\n",
    "\n",
    "# # Compute Jacobians for A and B matrices\n",
    "# A = f.jacobian(x)\n",
    "# B = f.jacobian(u)"
   ]
  },
  {
   "cell_type": "code",
   "execution_count": 19,
   "metadata": {},
   "outputs": [
    {
     "name": "stdout",
     "output_type": "stream",
     "text": [
      "LaTeX representation of Matrix A:\n",
      "\\left[\\begin{matrix}- \\frac{a_{1} + 2 a_{2} x_{SoC} + 3 a_{3} x_{SoC}^{2} - \\frac{- I_{HP} R_{in} x_{HP} \\left(a_{1} + 2 a_{2} x_{SoC} + 3 a_{3} x_{SoC}^{2}\\right) - I_{LED} R_{in} x_{LED} \\left(a_{1} + 2 a_{2} x_{SoC} + 3 a_{3} x_{SoC}^{2}\\right) + \\frac{\\left(2 a_{1} + 4 a_{2} x_{SoC} + 6 a_{3} x_{SoC}^{2}\\right) \\left(a_{0} + a_{1} x_{SoC} + a_{2} x_{SoC}^{2} + a_{3} x_{SoC}^{3}\\right)}{2}}{\\sqrt{- 4 I_{FAN} R_{in} U_{FAN} x_{FAN} + I_{HP}^{2} R_{in}^{2} x_{HP}^{2} + 2 I_{HP} I_{LED} R_{in}^{2} x_{HP} x_{LED} - 2 I_{HP} R_{in} x_{HP} \\left(a_{0} + a_{1} x_{SoC} + a_{2} x_{SoC}^{2} + a_{3} x_{SoC}^{3}\\right) + I_{LED}^{2} R_{in}^{2} x_{LED}^{2} - 2 I_{LED} R_{in} x_{LED} \\left(a_{0} + a_{1} x_{SoC} + a_{2} x_{SoC}^{2} + a_{3} x_{SoC}^{3}\\right) - 4 P_{rest} R_{in} + \\left(a_{0} + a_{1} x_{SoC} + a_{2} x_{SoC}^{2} + a_{3} x_{SoC}^{3}\\right)^{2}}}}{2 Q_{max} R_{in}} & 0 & 0\\\\0 & \\frac{- I_{HP} S_{M} - K_{M} - \\frac{1}{R_{3 \\lambda}}}{c_{p} m_{c}} & \\frac{K_{M}}{c_{p} m_{c}}\\\\\\frac{I_{HP} \\left(a_{1} + 2 a_{2} x_{SoC} + 3 a_{3} x_{SoC}^{2}\\right)}{c_{p} m_{h}} & \\frac{I_{HP} S_{M} + K_{M}}{c_{p} m_{h}} & \\frac{- K_{M} - \\frac{1}{R_{eq}}}{c_{p} m_{h}}\\end{matrix}\\right]\n",
      "\n",
      "LaTeX representation of Matrix B:\n",
      "\\left[\\begin{matrix}- \\frac{R_{in} x_{HP} - \\frac{I_{HP} R_{in}^{2} x_{HP}^{2} + I_{LED} R_{in}^{2} x_{HP} x_{LED} - R_{in} x_{HP} \\left(a_{0} + a_{1} x_{SoC} + a_{2} x_{SoC}^{2} + a_{3} x_{SoC}^{3}\\right)}{\\sqrt{- 4 I_{FAN} R_{in} U_{FAN} x_{FAN} + I_{HP}^{2} R_{in}^{2} x_{HP}^{2} + 2 I_{HP} I_{LED} R_{in}^{2} x_{HP} x_{LED} - 2 I_{HP} R_{in} x_{HP} \\left(a_{0} + a_{1} x_{SoC} + a_{2} x_{SoC}^{2} + a_{3} x_{SoC}^{3}\\right) + I_{LED}^{2} R_{in}^{2} x_{LED}^{2} - 2 I_{LED} R_{in} x_{LED} \\left(a_{0} + a_{1} x_{SoC} + a_{2} x_{SoC}^{2} + a_{3} x_{SoC}^{3}\\right) - 4 P_{rest} R_{in} + \\left(a_{0} + a_{1} x_{SoC} + a_{2} x_{SoC}^{2} + a_{3} x_{SoC}^{3}\\right)^{2}}}}{2 Q_{max} R_{in}} & - \\frac{I_{FAN} U_{FAN}}{Q_{max} \\sqrt{- 4 I_{FAN} R_{in} U_{FAN} x_{FAN} + I_{HP}^{2} R_{in}^{2} x_{HP}^{2} + 2 I_{HP} I_{LED} R_{in}^{2} x_{HP} x_{LED} - 2 I_{HP} R_{in} x_{HP} \\left(a_{0} + a_{1} x_{SoC} + a_{2} x_{SoC}^{2} + a_{3} x_{SoC}^{3}\\right) + I_{LED}^{2} R_{in}^{2} x_{LED}^{2} - 2 I_{LED} R_{in} x_{LED} \\left(a_{0} + a_{1} x_{SoC} + a_{2} x_{SoC}^{2} + a_{3} x_{SoC}^{3}\\right) - 4 P_{rest} R_{in} + \\left(a_{0} + a_{1} x_{SoC} + a_{2} x_{SoC}^{2} + a_{3} x_{SoC}^{3}\\right)^{2}}}\\\\\\frac{1.0 I_{HP} R_{M} - S_{M} T_{c}}{c_{p} m_{c}} & 0\\\\\\frac{- 2 I_{HP} \\left(0.5 R_{M} + R_{in}\\right) - R_{in} \\left(I_{FAN} + I_{LED}\\right) + S_{M} T_{c} + a_{0} + a_{1} x_{SoC} + a_{2} x_{SoC}^{2} + a_{3} x_{SoC}^{3}}{c_{p} m_{h}} & 0\\end{matrix}\\right]\n"
     ]
    }
   ],
   "source": [
    "A_latex = sp.latex(A)\n",
    "B_latex = sp.latex(B)\n",
    "\n",
    "# Print LaTeX code\n",
    "print(\"LaTeX representation of Matrix A:\")\n",
    "print(A_latex)\n",
    "\n",
    "print(\"\\nLaTeX representation of Matrix B:\")\n",
    "print(B_latex)\n"
   ]
  },
  {
   "cell_type": "code",
   "execution_count": 20,
   "metadata": {},
   "outputs": [
    {
     "data": {
      "text/latex": [
       "$\\displaystyle \\left[\\begin{matrix}- \\frac{a_{1} + 2 a_{2} x_{SoC} + 3 a_{3} x_{SoC}^{2} - \\frac{- I_{HP} R_{in} x_{HP} \\left(a_{1} + 2 a_{2} x_{SoC} + 3 a_{3} x_{SoC}^{2}\\right) - I_{LED} R_{in} x_{LED} \\left(a_{1} + 2 a_{2} x_{SoC} + 3 a_{3} x_{SoC}^{2}\\right) + \\frac{\\left(2 a_{1} + 4 a_{2} x_{SoC} + 6 a_{3} x_{SoC}^{2}\\right) \\left(a_{0} + a_{1} x_{SoC} + a_{2} x_{SoC}^{2} + a_{3} x_{SoC}^{3}\\right)}{2}}{\\sqrt{- 4 I_{FAN} R_{in} U_{FAN} x_{FAN} + I_{HP}^{2} R_{in}^{2} x_{HP}^{2} + 2 I_{HP} I_{LED} R_{in}^{2} x_{HP} x_{LED} - 2 I_{HP} R_{in} x_{HP} \\left(a_{0} + a_{1} x_{SoC} + a_{2} x_{SoC}^{2} + a_{3} x_{SoC}^{3}\\right) + I_{LED}^{2} R_{in}^{2} x_{LED}^{2} - 2 I_{LED} R_{in} x_{LED} \\left(a_{0} + a_{1} x_{SoC} + a_{2} x_{SoC}^{2} + a_{3} x_{SoC}^{3}\\right) - 4 P_{rest} R_{in} + \\left(a_{0} + a_{1} x_{SoC} + a_{2} x_{SoC}^{2} + a_{3} x_{SoC}^{3}\\right)^{2}}}}{2 Q_{max} R_{in}} & 0 & 0\\\\0 & \\frac{- I_{HP} S_{M} - K_{M} - \\frac{1}{R_{3 \\lambda}}}{c_{p} m_{c}} & \\frac{K_{M}}{c_{p} m_{c}}\\\\\\frac{I_{HP} \\left(a_{1} + 2 a_{2} x_{SoC} + 3 a_{3} x_{SoC}^{2}\\right)}{c_{p} m_{h}} & \\frac{I_{HP} S_{M} + K_{M}}{c_{p} m_{h}} & \\frac{- K_{M} - \\frac{1}{R_{eq}}}{c_{p} m_{h}}\\end{matrix}\\right]$"
      ],
      "text/plain": [
       "Matrix([\n",
       "[-(a1 + 2*a2*x_SoC + 3*a3*x_SoC**2 - (-I_HP*R_in*x_HP*(a1 + 2*a2*x_SoC + 3*a3*x_SoC**2) - I_LED*R_in*x_LED*(a1 + 2*a2*x_SoC + 3*a3*x_SoC**2) + (2*a1 + 4*a2*x_SoC + 6*a3*x_SoC**2)*(a0 + a1*x_SoC + a2*x_SoC**2 + a3*x_SoC**3)/2)/sqrt(-4*I_FAN*R_in*U_FAN*x_FAN + I_HP**2*R_in**2*x_HP**2 + 2*I_HP*I_LED*R_in**2*x_HP*x_LED - 2*I_HP*R_in*x_HP*(a0 + a1*x_SoC + a2*x_SoC**2 + a3*x_SoC**3) + I_LED**2*R_in**2*x_LED**2 - 2*I_LED*R_in*x_LED*(a0 + a1*x_SoC + a2*x_SoC**2 + a3*x_SoC**3) - 4*P_rest*R_in + (a0 + a1*x_SoC + a2*x_SoC**2 + a3*x_SoC**3)**2))/(2*Q_max*R_in),                                         0,                         0],\n",
       "[                                                                                                                                                                                                                                                                                                                                                                                                                                                                                                                                                                        0, (-I_HP*S_M - K_M - 1/R3_lambda)/(c_p*m_c),             K_M/(c_p*m_c)],\n",
       "[                                                                                                                                                                                                                                                                                                                                                                                                                                                                                                                         I_HP*(a1 + 2*a2*x_SoC + 3*a3*x_SoC**2)/(c_p*m_h),                (I_HP*S_M + K_M)/(c_p*m_h), (-K_M - 1/R_eq)/(c_p*m_h)]])"
      ]
     },
     "execution_count": 20,
     "metadata": {},
     "output_type": "execute_result"
    }
   ],
   "source": [
    "A"
   ]
  },
  {
   "cell_type": "code",
   "execution_count": 21,
   "metadata": {},
   "outputs": [
    {
     "data": {
      "text/latex": [
       "$\\displaystyle \\left[\\begin{matrix}- \\frac{R_{in} x_{HP} - \\frac{I_{HP} R_{in}^{2} x_{HP}^{2} + I_{LED} R_{in}^{2} x_{HP} x_{LED} - R_{in} x_{HP} \\left(a_{0} + a_{1} x_{SoC} + a_{2} x_{SoC}^{2} + a_{3} x_{SoC}^{3}\\right)}{\\sqrt{- 4 I_{FAN} R_{in} U_{FAN} x_{FAN} + I_{HP}^{2} R_{in}^{2} x_{HP}^{2} + 2 I_{HP} I_{LED} R_{in}^{2} x_{HP} x_{LED} - 2 I_{HP} R_{in} x_{HP} \\left(a_{0} + a_{1} x_{SoC} + a_{2} x_{SoC}^{2} + a_{3} x_{SoC}^{3}\\right) + I_{LED}^{2} R_{in}^{2} x_{LED}^{2} - 2 I_{LED} R_{in} x_{LED} \\left(a_{0} + a_{1} x_{SoC} + a_{2} x_{SoC}^{2} + a_{3} x_{SoC}^{3}\\right) - 4 P_{rest} R_{in} + \\left(a_{0} + a_{1} x_{SoC} + a_{2} x_{SoC}^{2} + a_{3} x_{SoC}^{3}\\right)^{2}}}}{2 Q_{max} R_{in}} & - \\frac{I_{FAN} U_{FAN}}{Q_{max} \\sqrt{- 4 I_{FAN} R_{in} U_{FAN} x_{FAN} + I_{HP}^{2} R_{in}^{2} x_{HP}^{2} + 2 I_{HP} I_{LED} R_{in}^{2} x_{HP} x_{LED} - 2 I_{HP} R_{in} x_{HP} \\left(a_{0} + a_{1} x_{SoC} + a_{2} x_{SoC}^{2} + a_{3} x_{SoC}^{3}\\right) + I_{LED}^{2} R_{in}^{2} x_{LED}^{2} - 2 I_{LED} R_{in} x_{LED} \\left(a_{0} + a_{1} x_{SoC} + a_{2} x_{SoC}^{2} + a_{3} x_{SoC}^{3}\\right) - 4 P_{rest} R_{in} + \\left(a_{0} + a_{1} x_{SoC} + a_{2} x_{SoC}^{2} + a_{3} x_{SoC}^{3}\\right)^{2}}}\\\\\\frac{1.0 I_{HP} R_{M} - S_{M} T_{c}}{c_{p} m_{c}} & 0\\\\\\frac{- 2 I_{HP} \\left(0.5 R_{M} + R_{in}\\right) - R_{in} \\left(I_{FAN} + I_{LED}\\right) + S_{M} T_{c} + a_{0} + a_{1} x_{SoC} + a_{2} x_{SoC}^{2} + a_{3} x_{SoC}^{3}}{c_{p} m_{h}} & 0\\end{matrix}\\right]$"
      ],
      "text/plain": [
       "Matrix([\n",
       "[-(R_in*x_HP - (I_HP*R_in**2*x_HP**2 + I_LED*R_in**2*x_HP*x_LED - R_in*x_HP*(a0 + a1*x_SoC + a2*x_SoC**2 + a3*x_SoC**3))/sqrt(-4*I_FAN*R_in*U_FAN*x_FAN + I_HP**2*R_in**2*x_HP**2 + 2*I_HP*I_LED*R_in**2*x_HP*x_LED - 2*I_HP*R_in*x_HP*(a0 + a1*x_SoC + a2*x_SoC**2 + a3*x_SoC**3) + I_LED**2*R_in**2*x_LED**2 - 2*I_LED*R_in*x_LED*(a0 + a1*x_SoC + a2*x_SoC**2 + a3*x_SoC**3) - 4*P_rest*R_in + (a0 + a1*x_SoC + a2*x_SoC**2 + a3*x_SoC**3)**2))/(2*Q_max*R_in), -I_FAN*U_FAN/(Q_max*sqrt(-4*I_FAN*R_in*U_FAN*x_FAN + I_HP**2*R_in**2*x_HP**2 + 2*I_HP*I_LED*R_in**2*x_HP*x_LED - 2*I_HP*R_in*x_HP*(a0 + a1*x_SoC + a2*x_SoC**2 + a3*x_SoC**3) + I_LED**2*R_in**2*x_LED**2 - 2*I_LED*R_in*x_LED*(a0 + a1*x_SoC + a2*x_SoC**2 + a3*x_SoC**3) - 4*P_rest*R_in + (a0 + a1*x_SoC + a2*x_SoC**2 + a3*x_SoC**3)**2))],\n",
       "[                                                                                                                                                                                                                                                                                                                                                                                                                              (1.0*I_HP*R_M - S_M*T_c)/(c_p*m_c),                                                                                                                                                                                                                                                                                                                                             0],\n",
       "[                                                                                                                                                                                                                                                                                                                                               (-2*I_HP*(0.5*R_M + R_in) - R_in*(I_FAN + I_LED) + S_M*T_c + a0 + a1*x_SoC + a2*x_SoC**2 + a3*x_SoC**3)/(c_p*m_h),                                                                                                                                                                                                                                                                                                                                             0]])"
      ]
     },
     "execution_count": 21,
     "metadata": {},
     "output_type": "execute_result"
    }
   ],
   "source": [
    "B"
   ]
  },
  {
   "cell_type": "code",
   "execution_count": 22,
   "metadata": {},
   "outputs": [],
   "source": [
    "# # x_SoC_ss, T_c_ss, T_h_ss = sp.symbols('x_SoC_ss T_c_ss T_h_ss')\n",
    "# # I_HP_ss, I_FAN_ss = sp.symbols('I_HP_ss I_LED_ss')\n",
    "# T_c_ss, T_h_ss = sp.symbols('T_c_ss T_h_ss')\n",
    "# I_HP_ss = sp.symbols('I_HP_ss')\n",
    "\n",
    "# # x_ss = sp.Matrix([x_SoC_ss, T_c_ss, T_h_ss])\n",
    "# x_ss = sp.Matrix([T_c_ss, T_h_ss])\n",
    "# # u_ss = sp.Matrix([I_HP_ss, I_FAN_ss])\n",
    "# u_ss = sp.Matrix([I_HP_ss])\n",
    "\n",
    "# steady_state_linear_eq = A * sp.Matrix([x_ss]) #+ B * sp.Matrix([u_ss])\n",
    "\n",
    "# # Solve linear steady-state\n",
    "# linear_steady_state = sp.solve(steady_state_linear_eq, [x_ss], dict=True)\n",
    "# print(\"\\nLinear steady-state solutions:\")\n",
    "# sp.pprint(linear_steady_state)"
   ]
  },
  {
   "cell_type": "code",
   "execution_count": 23,
   "metadata": {},
   "outputs": [],
   "source": [
    "# # Set derivatives to zero for steady-state\n",
    "# steady_state_eqs = [eq for eq in f]\n",
    "\n",
    "# # Solve steady-state equations\n",
    "# steady_state = sp.solve(steady_state_eqs, [x_SoC, T_c, T_h], dict=True)\n",
    "# print(\"Nonlinear steady-state solutions:\")\n",
    "# sp.pprint(steady_state)"
   ]
  }
 ],
 "metadata": {
  "kernelspec": {
   "display_name": "Python 3",
   "language": "python",
   "name": "python3"
  },
  "language_info": {
   "codemirror_mode": {
    "name": "ipython",
    "version": 3
   },
   "file_extension": ".py",
   "mimetype": "text/x-python",
   "name": "python",
   "nbconvert_exporter": "python",
   "pygments_lexer": "ipython3",
   "version": "3.11.9"
  }
 },
 "nbformat": 4,
 "nbformat_minor": 2
}
