{
 "cells": [
  {
   "cell_type": "code",
   "execution_count": 8,
   "metadata": {},
   "outputs": [],
   "source": [
    "import sympy as sp"
   ]
  },
  {
   "cell_type": "code",
   "execution_count": 9,
   "metadata": {},
   "outputs": [],
   "source": [
    "# State variables\n",
    "x_SoC, T_c, T_h = sp.symbols('x_SoC T_c T_h')\n",
    "\n",
    "# Input variables\n",
    "I_HP, I_FAN = sp.symbols('I_HP I_LED')\n",
    "\n",
    "# Battery parameters\n",
    "Q_max, R_in, P_rest = sp.symbols('Q_max R_in P_rest')\n",
    "a3, a2, a1, a0 = sp.symbols('a3 a2 a1 a0')\n",
    "U_oc = a3 * x_SoC**3 + a2 * x_SoC**2 + a1 * x_SoC + a0\n",
    "\n",
    "# Fan parameters\n",
    "U_FAN, x_FAN = sp.symbols('U_FAN x_FAN')\n",
    "\n",
    "# LED parameters\n",
    "U_LED, I_LED, x_LED, T_LED = sp.symbols('U_LED I_LED x_LED T_LED')\n",
    "\n",
    "# Peltier module parameters\n",
    "S_M, R_M, K_M = sp.symbols('S_M R_M K_M')\n",
    "\n",
    "# Thermal\n",
    "m_h, cp, m_c, R_eq, R3_lambda, T_inf = sp.symbols('m_h c_p m_c R_eq R3_lambda T_inf')\n",
    "\n",
    "# Define the three nonlinear differential equations\n",
    "dTh_dt = (1 / (m_h * cp)) * (S_M * I_HP * T_c - (R_in + 0.5 * R_M) * I_HP**2 - K_M * T_h + K_M * T_c + U_oc * I_HP - R_in * (I_FAN + I_LED) * I_HP + T_inf / R_eq - T_h / R_eq)\n",
    "dTc_dt = (1 / (m_c * cp)) * (T_LED / R3_lambda - (1 / R3_lambda + K_M) * T_c - S_M * I_HP * T_c + 0.5 * R_M * I_HP**2 + K_M * T_h)\n",
    "dxSoC_dt = (-1 / (2 * Q_max * R_in)) * (U_oc - sp.sqrt(U_oc**2 - 4 * R_in * (P_rest + I_FAN * U_FAN * x_FAN - R_in * I_HP**2 + I_LED * x_LED * U_oc + I_HP * U_oc - R_in * (I_FAN + I_LED) * I_LED * x_LED - R_in * (I_FAN + I_LED) * I_HP)))\n",
    "\n",
    "# Define state and input vectors\n",
    "x = sp.Matrix([x_SoC, T_c, T_h])\n",
    "u = sp.Matrix([I_HP, I_FAN])\n",
    "\n",
    "# Define the system of differential equations as a matrix\n",
    "f = sp.Matrix([dxSoC_dt, dTc_dt, dTh_dt])\n",
    "\n",
    "# Compute Jacobians for A and B matrices\n",
    "A = f.jacobian(x)\n",
    "B = f.jacobian(u)"
   ]
  },
  {
   "cell_type": "code",
   "execution_count": 10,
   "metadata": {},
   "outputs": [],
   "source": [
    "# Simplified version\n",
    "# Define state and input vectors\n",
    "x = sp.Matrix([T_c, T_h])\n",
    "u = sp.Matrix([I_HP])\n",
    "\n",
    "# Define the system of differential equations as a matrix\n",
    "f = sp.Matrix([dTc_dt, dTh_dt])\n",
    "\n",
    "# Compute Jacobians for A and B matrices\n",
    "A = f.jacobian(x)\n",
    "B = f.jacobian(u)"
   ]
  },
  {
   "cell_type": "code",
   "execution_count": 11,
   "metadata": {},
   "outputs": [
    {
     "name": "stdout",
     "output_type": "stream",
     "text": [
      "LaTeX representation of Matrix A:\n",
      "\\left[\\begin{matrix}\\frac{- I_{HP} S_{M} - K_{M} - \\frac{1}{R_{3 \\lambda}}}{c_{p} m_{c}} & \\frac{K_{M}}{c_{p} m_{c}}\\\\\\frac{I_{HP} S_{M} + K_{M}}{c_{p} m_{h}} & \\frac{- K_{M} - \\frac{1}{R_{eq}}}{c_{p} m_{h}}\\end{matrix}\\right]\n",
      "\n",
      "LaTeX representation of Matrix B:\n",
      "\\left[\\begin{matrix}\\frac{1.0 I_{HP} R_{M} - S_{M} T_{c}}{c_{p} m_{c}}\\\\\\frac{- 2 I_{HP} \\left(0.5 R_{M} + R_{in}\\right) - 2 I_{LED} R_{in} + S_{M} T_{c} + a_{0} + a_{1} x_{SoC} + a_{2} x_{SoC}^{2} + a_{3} x_{SoC}^{3}}{c_{p} m_{h}}\\end{matrix}\\right]\n"
     ]
    }
   ],
   "source": [
    "A_latex = sp.latex(A)\n",
    "B_latex = sp.latex(B)\n",
    "\n",
    "# Print LaTeX code\n",
    "print(\"LaTeX representation of Matrix A:\")\n",
    "print(A_latex)\n",
    "\n",
    "print(\"\\nLaTeX representation of Matrix B:\")\n",
    "print(B_latex)\n"
   ]
  },
  {
   "cell_type": "code",
   "execution_count": 12,
   "metadata": {},
   "outputs": [
    {
     "data": {
      "text/latex": [
       "$\\displaystyle \\left[\\begin{matrix}\\frac{- I_{HP} S_{M} - K_{M} - \\frac{1}{R_{3 \\lambda}}}{c_{p} m_{c}} & \\frac{K_{M}}{c_{p} m_{c}}\\\\\\frac{I_{HP} S_{M} + K_{M}}{c_{p} m_{h}} & \\frac{- K_{M} - \\frac{1}{R_{eq}}}{c_{p} m_{h}}\\end{matrix}\\right]$"
      ],
      "text/plain": [
       "Matrix([\n",
       "[(-I_HP*S_M - K_M - 1/R3_lambda)/(c_p*m_c),             K_M/(c_p*m_c)],\n",
       "[               (I_HP*S_M + K_M)/(c_p*m_h), (-K_M - 1/R_eq)/(c_p*m_h)]])"
      ]
     },
     "execution_count": 12,
     "metadata": {},
     "output_type": "execute_result"
    }
   ],
   "source": [
    "A"
   ]
  },
  {
   "cell_type": "code",
   "execution_count": 13,
   "metadata": {},
   "outputs": [
    {
     "data": {
      "text/latex": [
       "$\\displaystyle \\left[\\begin{matrix}\\frac{1.0 I_{HP} R_{M} - S_{M} T_{c}}{c_{p} m_{c}}\\\\\\frac{- 2 I_{HP} \\left(0.5 R_{M} + R_{in}\\right) - 2 I_{LED} R_{in} + S_{M} T_{c} + a_{0} + a_{1} x_{SoC} + a_{2} x_{SoC}^{2} + a_{3} x_{SoC}^{3}}{c_{p} m_{h}}\\end{matrix}\\right]$"
      ],
      "text/plain": [
       "Matrix([\n",
       "[                                                                       (1.0*I_HP*R_M - S_M*T_c)/(c_p*m_c)],\n",
       "[(-2*I_HP*(0.5*R_M + R_in) - 2*I_LED*R_in + S_M*T_c + a0 + a1*x_SoC + a2*x_SoC**2 + a3*x_SoC**3)/(c_p*m_h)]])"
      ]
     },
     "execution_count": 13,
     "metadata": {},
     "output_type": "execute_result"
    }
   ],
   "source": [
    "B"
   ]
  },
  {
   "cell_type": "code",
   "execution_count": 18,
   "metadata": {},
   "outputs": [
    {
     "name": "stdout",
     "output_type": "stream",
     "text": [
      "\n",
      "Linear steady-state solutions:\n",
      "[]\n"
     ]
    }
   ],
   "source": [
    "# x_SoC_ss, T_c_ss, T_h_ss = sp.symbols('x_SoC_ss T_c_ss T_h_ss')\n",
    "# I_HP_ss, I_FAN_ss = sp.symbols('I_HP_ss I_LED_ss')\n",
    "T_c_ss, T_h_ss = sp.symbols('T_c_ss T_h_ss')\n",
    "I_HP_ss = sp.symbols('I_HP_ss')\n",
    "\n",
    "# x_ss = sp.Matrix([x_SoC_ss, T_c_ss, T_h_ss])\n",
    "x_ss = sp.Matrix([T_c_ss, T_h_ss])\n",
    "# u_ss = sp.Matrix([I_HP_ss, I_FAN_ss])\n",
    "u_ss = sp.Matrix([I_HP_ss])\n",
    "\n",
    "steady_state_linear_eq = A * sp.Matrix([x_ss]) #+ B * sp.Matrix([u_ss])\n",
    "\n",
    "# Solve linear steady-state\n",
    "linear_steady_state = sp.solve(steady_state_linear_eq, [x_ss], dict=True)\n",
    "print(\"\\nLinear steady-state solutions:\")\n",
    "sp.pprint(linear_steady_state)"
   ]
  },
  {
   "cell_type": "code",
   "execution_count": 15,
   "metadata": {},
   "outputs": [],
   "source": [
    "# # Set derivatives to zero for steady-state\n",
    "# steady_state_eqs = [eq for eq in f]\n",
    "\n",
    "# # Solve steady-state equations\n",
    "# steady_state = sp.solve(steady_state_eqs, [x_SoC, T_c, T_h], dict=True)\n",
    "# print(\"Nonlinear steady-state solutions:\")\n",
    "# sp.pprint(steady_state)"
   ]
  }
 ],
 "metadata": {
  "kernelspec": {
   "display_name": "Python 3",
   "language": "python",
   "name": "python3"
  },
  "language_info": {
   "codemirror_mode": {
    "name": "ipython",
    "version": 3
   },
   "file_extension": ".py",
   "mimetype": "text/x-python",
   "name": "python",
   "nbconvert_exporter": "python",
   "pygments_lexer": "ipython3",
   "version": "3.11.9"
  }
 },
 "nbformat": 4,
 "nbformat_minor": 2
}
